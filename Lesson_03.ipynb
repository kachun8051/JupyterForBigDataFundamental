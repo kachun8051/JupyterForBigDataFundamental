{
 "cells": [
  {
   "cell_type": "markdown",
   "id": "a3d856a7",
   "metadata": {},
   "source": [
    "<h1>正則表達式 #2 - Regular Expression</h1>"
   ]
  },
  {
   "cell_type": "markdown",
   "id": "fe53243d",
   "metadata": {},
   "source": [
    "<quote>https://stackoverflow.com/questions/52290219/how-to-increase-the-font-size-of-the-markdown-table-in-jupyter-notebook</quote>"
   ]
  },
  {
   "cell_type": "code",
   "execution_count": 1,
   "id": "a480017d",
   "metadata": {},
   "outputs": [
    {
     "data": {
      "text/html": [
       "\n",
       "<style>\n",
       "td,th {\n",
       "  font-size: 18px\n",
       "}\n",
       "table {\n",
       "    float: left;\n",
       "}\n",
       "</style>\n"
      ],
      "text/plain": [
       "<IPython.core.display.HTML object>"
      ]
     },
     "metadata": {},
     "output_type": "display_data"
    }
   ],
   "source": [
    "%%HTML\n",
    "\n",
    "<style>\n",
    "td,th {\n",
    "  font-size: 18px\n",
    "}\n",
    "table {\n",
    "    float: left;\n",
    "}\n",
    "</style>"
   ]
  },
  {
   "cell_type": "markdown",
   "id": "55d29721",
   "metadata": {},
   "source": [
    "<h2>findall 設定符號的定義</h2>"
   ]
  },
  {
   "cell_type": "markdown",
   "id": "4d906db8",
   "metadata": {},
   "source": [
    "| 符號 | 說明 | 表達式 | 適合範例 |\n",
    "| :--------: | :-------: | :-------: | :-------: |\n",
    "| \\d  | 數字 0-9 | a\\dc | a2c |\n",
    "| \\D | 非數字 | a\\Dd | azd |\n",
    "| \\s | 空白 | a\\sd | a d |\n",
    "| \\S | 非空白字元 | a\\Sd | axd |\n",
    "| \\w | a-z A-Z 0-9 | a\\wd | a0d |\n",
    "| \\W | 非 a-z A-Z 0-9 | a\\Wd | a d |"
   ]
  },
  {
   "cell_type": "markdown",
   "id": "5d4d7740",
   "metadata": {},
   "source": [
    "<h2>計算字元數量</h2>"
   ]
  },
  {
   "cell_type": "markdown",
   "id": "d7c4581a",
   "metadata": {},
   "source": [
    "| 符號 | 說明 | 表達式 | 適合範例 |\n",
    "| :--------: | :-------: | :-------: | :-------: |\n",
    "| [a-z]  | 表示 a 至 z 等 26 個英文小寫字母 | a[b-c]d | <ul><li>abd</li><li>acd</li></ul> |\n",
    "| [^b-e] | 表示除了 b 至 e 之外，所有字元都接受 | a[^b-e]d | <ul><li>afd</li><li>axd</li></ul> |\n",
    "| {3} | 需輸入 3 個字元 | [A-C]{3} | <ul><li>ABC</li><li>axd</li></ul> |\n",
    "| {1,3} | 需輸入 1 至 3 個字元 | [A-C]{1,3} | <ul><li>A</li><li>AB</li><li>ABC</li></ul> |\n",
    "| {4,} | 需輸入 4 個或以上字元 | [A-C]{4,} | <ul><li>ABCC</li><li>ACCCB</li><li>AAAA</li></ul> |"
   ]
  },
  {
   "cell_type": "markdown",
   "id": "c4771869-87dc-4d9c-b9e5-16219908a75d",
   "metadata": {},
   "source": [
    "<h2>計算重覆數量</h2>"
   ]
  },
  {
   "cell_type": "markdown",
   "id": "7a33b91d-9d7d-475b-8683-91467e12ce99",
   "metadata": {},
   "source": [
    "| 符號 | 說明 | 表達式 | 適合範例 |\n",
    "| :--------: | :-------: | :-------: | :-------: |\n",
    "| ? | 表示前面的項目，重複 0 次或 1 次 | abcd? | <ul><li>abc</li><li>abcd</li></ul> |\n",
    "| * | 表示前面的項目，重複 0 次或以上 | abcd? | <ul><li>abc</li><li>abcddd</li></ul> |\n",
    "| + | 表示前面的項目，重複 1 次或以上 | abcd+ | <ul><li>abcd</li><li>abcddd</li></ul> |"
   ]
  },
  {
   "cell_type": "markdown",
   "id": "462560ae",
   "metadata": {},
   "source": [
    "<h2>\\b - Whole word only</h2>"
   ]
  },
  {
   "cell_type": "code",
   "execution_count": 8,
   "id": "56897f82",
   "metadata": {},
   "outputs": [],
   "source": [
    "text_1 = \"The quick brown fox jumps over the lazy dog.\"\n",
    "text_2 = \"The quick brown fox foxa jumps foxs over xfox the lazy dog.\""
   ]
  },
  {
   "cell_type": "code",
   "execution_count": 10,
   "id": "1bc20b4b",
   "metadata": {},
   "outputs": [
    {
     "name": "stdout",
     "output_type": "stream",
     "text": [
      "['fox', 'fox', 'fox', 'fox']\n"
     ]
    }
   ],
   "source": [
    "import re\n",
    "answer = re.findall(r'fox', text_2)\n",
    "if answer:\n",
    "    print(answer)"
   ]
  },
  {
   "cell_type": "code",
   "execution_count": 9,
   "id": "867ff9ae",
   "metadata": {},
   "outputs": [
    {
     "name": "stdout",
     "output_type": "stream",
     "text": [
      "['fox']\n"
     ]
    }
   ],
   "source": [
    "import re\n",
    "answer = re.findall(r'\\bfox\\b', text_2)\n",
    "if answer:\n",
    "    print(answer) # return first fox"
   ]
  },
  {
   "cell_type": "code",
   "execution_count": 11,
   "id": "cf377761",
   "metadata": {},
   "outputs": [
    {
     "name": "stdout",
     "output_type": "stream",
     "text": [
      "['fox', 'fox']\n"
     ]
    }
   ],
   "source": [
    "import re\n",
    "answer = re.findall(r'fox\\b', text_2)\n",
    "if answer:\n",
    "    print(answer) # return first fox and xfox"
   ]
  },
  {
   "cell_type": "code",
   "execution_count": 12,
   "id": "97353a6f",
   "metadata": {},
   "outputs": [
    {
     "name": "stdout",
     "output_type": "stream",
     "text": [
      "['fox', 'fox', 'fox']\n"
     ]
    }
   ],
   "source": [
    "import re\n",
    "answer = re.findall(r'\\bfox', text_2)\n",
    "if answer:\n",
    "    print(answer) # return first fox, foxa and foxs"
   ]
  },
  {
   "cell_type": "markdown",
   "id": "add90aac",
   "metadata": {},
   "source": [
    "<h2>找出所有數字</h2>"
   ]
  },
  {
   "cell_type": "code",
   "execution_count": 13,
   "id": "0a86c069",
   "metadata": {},
   "outputs": [
    {
     "name": "stdout",
     "output_type": "stream",
     "text": [
      "['2020', '2021', '2022']\n"
     ]
    }
   ],
   "source": [
    "import re\n",
    "text = \"Year 2020, 2021 and 2022\"\n",
    "answer = re.findall(r'\\d+', text)\n",
    "if answer:\n",
    "    print(answer)"
   ]
  },
  {
   "cell_type": "markdown",
   "id": "4efcd01b-28ca-4513-b1d7-1576c68b8bee",
   "metadata": {},
   "source": [
    "<h2>提取電子郵件</h2>"
   ]
  },
  {
   "cell_type": "code",
   "execution_count": 1,
   "id": "5adc5d0c",
   "metadata": {},
   "outputs": [
    {
     "name": "stdout",
     "output_type": "stream",
     "text": [
      "['info@examoke.com', 'support@example.org']\n"
     ]
    }
   ],
   "source": [
    "import re\n",
    "text = \"Please contact us at info@examoke.com or support@example.org\"\n",
    "answer = re.findall(r'[A-Za-z0-9._%+-]+@[a-z]{2,}.[a-z]{2,}', text)\n",
    "if answer:\n",
    "    print(answer)"
   ]
  },
  {
   "cell_type": "markdown",
   "id": "7b152d94-78f6-4c97-b204-918c255db39d",
   "metadata": {},
   "source": [
    "<h2>查找所有大寫單詞</h2>"
   ]
  },
  {
   "cell_type": "code",
   "execution_count": 3,
   "id": "cd391b59-9838-4ab9-a587-0164b87263b8",
   "metadata": {},
   "outputs": [
    {
     "name": "stdout",
     "output_type": "stream",
     "text": [
      "['T', 'EXAMPLE', 'S', 'UPPER']\n"
     ]
    }
   ],
   "source": [
    "import re\n",
    "text = \"This is an EXAMPLE of a Sentence with UPPER case words.\"\n",
    "answer = re.findall(r'[A-Z]+', text)\n",
    "if answer:\n",
    "    print(answer)"
   ]
  },
  {
   "cell_type": "markdown",
   "id": "68cc10fb-6d29-4b48-8dec-6d5f62cce13a",
   "metadata": {},
   "source": [
    "<h2>獲取日期格式</h2>"
   ]
  },
  {
   "cell_type": "code",
   "execution_count": 7,
   "id": "c9b2d180-6918-4696-ad9f-1ecc15a7d2a6",
   "metadata": {},
   "outputs": [
    {
     "name": "stdout",
     "output_type": "stream",
     "text": [
      "['2022/10/23', '01/01/2023']\n"
     ]
    }
   ],
   "source": [
    "import re\n",
    "text = \"Important dates are 2022/10/23 and 01/01/2023.\"\n",
    "answer = re.findall(r'[\\d]{2,4}/[\\d]{2}/[\\d]{2,4}', text)\n",
    "if answer:\n",
    "    print(answer)"
   ]
  },
  {
   "cell_type": "markdown",
   "id": "8599197d-76a7-4eab-8c55-64157f1c76b2",
   "metadata": {},
   "source": [
    "<h2>從字串符中提取所有單詞</h2>"
   ]
  },
  {
   "cell_type": "code",
   "execution_count": 10,
   "id": "a4151358-fd30-4fe8-8146-3badb3e6fd6f",
   "metadata": {},
   "outputs": [
    {
     "name": "stdout",
     "output_type": "stream",
     "text": [
      "['Hello', 'how', 'are', 'you']\n"
     ]
    }
   ],
   "source": [
    "import re\n",
    "text = \"Hello, how are you?\"\n",
    "answer = re.findall(r'\\w+', text)\n",
    "if answer:\n",
    "    print(answer)"
   ]
  },
  {
   "cell_type": "markdown",
   "id": "9ccf8e35-70f9-48c2-a38c-b4413150b561",
   "metadata": {},
   "source": [
    "<h2>提取帶括號的信息</h2>"
   ]
  },
  {
   "cell_type": "code",
   "execution_count": 45,
   "id": "66afe377-7ddd-4886-85ae-b8857b6d73a7",
   "metadata": {},
   "outputs": [
    {
     "name": "stdout",
     "output_type": "stream",
     "text": [
      "['success', 'failure', 'pending'] ['success', 'failure', 'pending'] ['(success)', '(failure)', '(pending)'] ['success', 'failure', 'pending']\n"
     ]
    }
   ],
   "source": [
    "import re\n",
    "text = \"Results: (success), (failure), (pending)\"\n",
    "answer = re.findall(r'\\(([\\w]+)\\)', text)\n",
    "answer2 = re.findall(r'\\(([a-zA-z0-9]+)\\)', text)\n",
    "answer3 = re.findall(r'\\([^)]+\\)', text)\n",
    "answer4 = re.findall(r'\\(([^)]+)\\)', text)\n",
    "if answer:\n",
    "    print(answer, answer2, answer3, answer4)"
   ]
  },
  {
   "cell_type": "markdown",
   "id": "a13aea74-4d22-4c2b-8ff9-9d8f272bb75b",
   "metadata": {},
   "source": [
    "<h2>提取帶有條件的字串</h2>"
   ]
  },
  {
   "cell_type": "markdown",
   "id": "b61813bc-043b-4dbe-9e55-1b2316409c45",
   "metadata": {},
   "source": [
    "<h3>圓括號係 group</h3>"
   ]
  },
  {
   "cell_type": "code",
   "execution_count": 53,
   "id": "33f7c3cc-746f-45c6-8280-a81dba8cccb8",
   "metadata": {},
   "outputs": [
    {
     "name": "stdout",
     "output_type": "stream",
     "text": [
      "[('apple', '10'), ('banana', '20'), ('cherry', '30')]\n"
     ]
    }
   ],
   "source": [
    "import re\n",
    "text = \"Items, apple-10, banana-20, cherry-30\"\n",
    "answer = re.findall(r'(\\w+)-(\\d+)', text)\n",
    "if answer:\n",
    "    print(answer)"
   ]
  },
  {
   "cell_type": "markdown",
   "id": "ae1ab7ed-3edf-4276-a4d0-f503038dd30b",
   "metadata": {},
   "source": [
    "<h2>匹配並提取嵌套的引號內文</h2>"
   ]
  },
  {
   "cell_type": "code",
   "execution_count": 4,
   "id": "9f02707c-f08b-4510-ac7d-1e81456803ba",
   "metadata": {},
   "outputs": [
    {
     "name": "stdout",
     "output_type": "stream",
     "text": [
      "Before: He said, \"She said, 'Indeed, It's ready.' very quietly.\"\n",
      "After: ['She said, ', 's ready.']\n"
     ]
    }
   ],
   "source": [
    "import re\n",
    "text = \"He said, \\\"She said, \\'Indeed, It\\'s ready.\\' very quietly.\\\"\"\n",
    "print(\"Before:\", text)\n",
    "answer = re.findall(r'[\"\\'](.*?)[\"\\']', text)\n",
    "if answer:\n",
    "    print(\"After:\", answer)\n",
    "    #print(\"type\", type(answer))"
   ]
  },
  {
   "cell_type": "markdown",
   "id": "d93e6fdf-43f9-49cd-9198-ea19690cd3cb",
   "metadata": {},
   "source": [
    "<h2>提取特定格式的電話號碼</h2>"
   ]
  },
  {
   "cell_type": "code",
   "execution_count": 3,
   "id": "a588b937-637a-472f-9eb7-0996b309fdf6",
   "metadata": {},
   "outputs": [
    {
     "name": "stdout",
     "output_type": "stream",
     "text": [
      "Before: Contact: 123-456-7890, 987.654.3210, (123) 456-7890, 123-12345-12345\n",
      "After: ['123-456-7890', '987.654.3210', '(123) 456-7890']\n"
     ]
    }
   ],
   "source": [
    "import re\n",
    "text = \"Contact: 123-456-7890, 987.654.3210, (123) 456-7890, 123-12345-12345\"\n",
    "print(\"Before:\", text)\n",
    "answer = re.findall(r'\\(?[\\d]{3}\\)?[-.\\s]?\\d{3}[-.]\\d{4}', text)\n",
    "if answer:\n",
    "    print(\"After:\", answer)\n",
    "    #print(\"type\", type(answer))"
   ]
  },
  {
   "cell_type": "markdown",
   "id": "730be9f0-f37d-418e-9797-b615735a20a6",
   "metadata": {},
   "source": [
    "<h2>從 HTML 中提取特定屬性</h2>"
   ]
  },
  {
   "cell_type": "code",
   "execution_count": 11,
   "id": "19f8547d-7260-421b-9653-e85df3e904bf",
   "metadata": {},
   "outputs": [
    {
     "name": "stdout",
     "output_type": "stream",
     "text": [
      "Before: <img src=\"image1.png\" alt=\"An image one\" /><img alt=\"An image two\" src=\"image2.png\" />\n",
      "After (1): ['image1.png', 'image2.png']\n",
      "After (2): ['image1.png', 'image2.png']\n"
     ]
    }
   ],
   "source": [
    "import re\n",
    "text = '<img src=\"image1.png\" alt=\"An image one\" /><img alt=\"An image two\" src=\"image2.png\" />'\n",
    "print(\"Before:\", text)\n",
    "answer1 = re.findall(r'img[\\w=\\\"\\s]*src=\\\"([\\w\\d.]+)', text)\n",
    "# *? means non-greedy\n",
    "answer2 = re.findall(r'img\\s+[^>]*?src=\"([^\"]+)', text)\n",
    "if answer1 and answer2:\n",
    "    print(\"After (1):\", answer1)\n",
    "    print(\"After (2):\", answer2)"
   ]
  },
  {
   "cell_type": "code",
   "execution_count": null,
   "id": "bce4b2e8-55dd-4774-8205-9b60501df2fe",
   "metadata": {},
   "outputs": [],
   "source": []
  }
 ],
 "metadata": {
  "kernelspec": {
   "display_name": "Python 3 (ipykernel)",
   "language": "python",
   "name": "python3"
  },
  "language_info": {
   "codemirror_mode": {
    "name": "ipython",
    "version": 3
   },
   "file_extension": ".py",
   "mimetype": "text/x-python",
   "name": "python",
   "nbconvert_exporter": "python",
   "pygments_lexer": "ipython3",
   "version": "3.12.3"
  }
 },
 "nbformat": 4,
 "nbformat_minor": 5
}

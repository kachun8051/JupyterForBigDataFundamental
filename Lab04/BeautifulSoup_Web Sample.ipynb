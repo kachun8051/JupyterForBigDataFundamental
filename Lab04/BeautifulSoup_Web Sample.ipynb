{
 "cells": [
  {
   "cell_type": "markdown",
   "id": "eb25f231-1932-4acf-bb44-ac373892e314",
   "metadata": {},
   "source": [
    "<h2>List the prices of book showing in books.toscrape.com</h2>"
   ]
  },
  {
   "cell_type": "code",
   "execution_count": 60,
   "id": "5750f25a-71eb-44d1-bc8f-519c5ededc3a",
   "metadata": {},
   "outputs": [],
   "source": [
    "from bs4 import BeautifulSoup\n",
    "import requests\n",
    "\n",
    "def fillPriceList(printresult: bool)->list:\n",
    "    req=requests.get('http://books.toscrape.com/')\n",
    "    # override encoding by real educated guess as provided by chardet\n",
    "    req.encoding = req.apparent_encoding\n",
    "    soup = BeautifulSoup(req.text,'html.parser')\n",
    "    all_prices=soup.findAll('p',attrs={'class':'price_color'})\n",
    "    # print(all_prices)\n",
    "    # empty the list of price\n",
    "    lst = []\n",
    "    for price in all_prices:\n",
    "        lst.append(price.string)\n",
    "    if printresult == True:\n",
    "        print(lst)\n",
    "    return lst\n"
   ]
  },
  {
   "cell_type": "code",
   "execution_count": 73,
   "id": "c0638ae0-3519-4f74-8e15-db4996184162",
   "metadata": {},
   "outputs": [
    {
     "name": "stdout",
     "output_type": "stream",
     "text": [
      "['£51.77', '£53.74', '£50.10', '£47.82', '£54.23', '£22.65', '£33.34', '£17.93', '£22.60', '£52.15', '£13.99', '£20.66', '£17.46', '£52.29', '£35.02', '£57.25', '£23.88', '£37.59', '£51.33', '£45.17']\n"
     ]
    }
   ],
   "source": [
    "lst_1 = fillPriceList(True)"
   ]
  },
  {
   "cell_type": "markdown",
   "id": "5ac8eb1a-166f-4a29-b7cc-20836a6288ae",
   "metadata": {},
   "source": [
    "<h2>List the titles of book showing in books.toscrape.com</h2>"
   ]
  },
  {
   "cell_type": "code",
   "execution_count": 65,
   "id": "9358dcef-6169-4354-a4a3-c43bf789c030",
   "metadata": {},
   "outputs": [],
   "source": [
    "from bs4 import BeautifulSoup\n",
    "import requests\n",
    "\n",
    "def fillTitleList(printresult: bool)->list:\n",
    "    req = requests.get('http://books.toscrape.com/')\n",
    "    # override encoding by real educated guess as provided by chardet\n",
    "    req.encoding = req.apparent_encoding\n",
    "    soup = BeautifulSoup(req.text,'html.parser')\n",
    "    # This will get all h3 tags\n",
    "    h3_container = soup.findAll('h3')\n",
    "    # print(h3_container)\n",
    "    # empty the list of Title\n",
    "    lst1 = []\n",
    "    for entry in h3_container:\n",
    "        # get the list of tag a\n",
    "        all_a = entry.findAll('a')\n",
    "        #lst.append(all_a.find_all('title'))\n",
    "        if len(all_a)>0:\n",
    "            # get first element\n",
    "            lst1.append(all_a[0].get('title'))\n",
    "    if printresult == True:\n",
    "        print(lst1)\n",
    "    return lst1"
   ]
  },
  {
   "cell_type": "code",
   "execution_count": 74,
   "id": "28906dad-7495-42d0-93f8-06712aa82b9f",
   "metadata": {},
   "outputs": [
    {
     "name": "stdout",
     "output_type": "stream",
     "text": [
      "['A Light in the Attic', 'Tipping the Velvet', 'Soumission', 'Sharp Objects', 'Sapiens: A Brief History of Humankind', 'The Requiem Red', 'The Dirty Little Secrets of Getting Your Dream Job', 'The Coming Woman: A Novel Based on the Life of the Infamous Feminist, Victoria Woodhull', 'The Boys in the Boat: Nine Americans and Their Epic Quest for Gold at the 1936 Berlin Olympics', 'The Black Maria', 'Starving Hearts (Triangular Trade Trilogy, #1)', \"Shakespeare's Sonnets\", 'Set Me Free', \"Scott Pilgrim's Precious Little Life (Scott Pilgrim #1)\", 'Rip it Up and Start Again', 'Our Band Could Be Your Life: Scenes from the American Indie Underground, 1981-1991', 'Olio', 'Mesaerion: The Best Science Fiction Stories 1800-1849', 'Libertarianism for Beginners', \"It's Only the Himalayas\"]\n"
     ]
    }
   ],
   "source": [
    "lst_2 = fillTitleList(True)"
   ]
  },
  {
   "cell_type": "markdown",
   "id": "5246d43e-3057-4edd-9395-4a31956a7405",
   "metadata": {},
   "source": [
    "<h2>List the titles of book showing in books.toscrape.com (alternative answer)</h2>"
   ]
  },
  {
   "cell_type": "code",
   "execution_count": 49,
   "id": "5a1c3f29-203d-44b0-95a3-ce7c3cf9511f",
   "metadata": {},
   "outputs": [
    {
     "name": "stdout",
     "output_type": "stream",
     "text": [
      "['A Light in the Attic', 'Tipping the Velvet', 'Soumission', 'Sharp Objects', 'Sapiens: A Brief History of Humankind', 'The Requiem Red', 'The Dirty Little Secrets of Getting Your Dream Job', 'The Coming Woman: A Novel Based on the Life of the Infamous Feminist, Victoria Woodhull', 'The Boys in the Boat: Nine Americans and Their Epic Quest for Gold at the 1936 Berlin Olympics', 'The Black Maria', 'Starving Hearts (Triangular Trade Trilogy, #1)', \"Shakespeare's Sonnets\", 'Set Me Free', \"Scott Pilgrim's Precious Little Life (Scott Pilgrim #1)\", 'Rip it Up and Start Again', 'Our Band Could Be Your Life: Scenes from the American Indie Underground, 1981-1991', 'Olio', 'Mesaerion: The Best Science Fiction Stories 1800-1849', 'Libertarianism for Beginners', \"It's Only the Himalayas\"]\n"
     ]
    }
   ],
   "source": [
    "from bs4 import BeautifulSoup\n",
    "import requests\n",
    "content=requests.get('http://books.toscrape.com/').text\n",
    "soup=BeautifulSoup(content,'html.parser')\n",
    "all_titles=soup.findAll('h3')\n",
    "lstText = []\n",
    "for title in all_titles:\n",
    "    all_links=title.findAll('a')\n",
    "    for link in all_links:\n",
    "        #print(link.get('title'))\n",
    "        lstText.append(link.get('title'))\n",
    "        #print(link.string)\n",
    "print(lstText)"
   ]
  },
  {
   "cell_type": "markdown",
   "id": "99ffdab2-2dfa-40dc-8ba4-26865f308e90",
   "metadata": {},
   "source": [
    "<h2>Combine 2 lists to a dictionary</h2>"
   ]
  },
  {
   "cell_type": "code",
   "execution_count": 56,
   "id": "7ccf1868-eae1-47d8-9a6c-8e61d1a01723",
   "metadata": {},
   "outputs": [],
   "source": [
    "\n",
    "def CombineThem(lstT: list, lstP: list)->(bool, dict):\n",
    "    sizeOfTitle = len(lstT)\n",
    "    sizeOfPrice = len(lstP)\n",
    "    if sizeOfTitle != sizeOfPrice:\n",
    "        print(f'Size of Title is: {sizeOfTitle}')\n",
    "        print(f'Size of Price is: {sizeOfPrice}')\n",
    "        return (False,{})\n",
    "    dictPricing = {\"title\": lstT, \"price\": lstP}\n",
    "    return (True, dictPricing)\n"
   ]
  },
  {
   "cell_type": "code",
   "execution_count": 76,
   "id": "3c6c11fb-77e1-47d7-965a-1ce29c1d9cd5",
   "metadata": {},
   "outputs": [
    {
     "name": "stdout",
     "output_type": "stream",
     "text": [
      "{'title': ['A Light in the Attic', 'Tipping the Velvet', 'Soumission', 'Sharp Objects', 'Sapiens: A Brief History of Humankind', 'The Requiem Red', 'The Dirty Little Secrets of Getting Your Dream Job', 'The Coming Woman: A Novel Based on the Life of the Infamous Feminist, Victoria Woodhull', 'The Boys in the Boat: Nine Americans and Their Epic Quest for Gold at the 1936 Berlin Olympics', 'The Black Maria', 'Starving Hearts (Triangular Trade Trilogy, #1)', \"Shakespeare's Sonnets\", 'Set Me Free', \"Scott Pilgrim's Precious Little Life (Scott Pilgrim #1)\", 'Rip it Up and Start Again', 'Our Band Could Be Your Life: Scenes from the American Indie Underground, 1981-1991', 'Olio', 'Mesaerion: The Best Science Fiction Stories 1800-1849', 'Libertarianism for Beginners', \"It's Only the Himalayas\"], 'price': ['£51.77', '£53.74', '£50.10', '£47.82', '£54.23', '£22.65', '£33.34', '£17.93', '£22.60', '£52.15', '£13.99', '£20.66', '£17.46', '£52.29', '£35.02', '£57.25', '£23.88', '£37.59', '£51.33', '£45.17']}\n"
     ]
    }
   ],
   "source": [
    "lstPrice = fillPriceList(False)\n",
    "lstTitle = fillTitleList(False)\n",
    "(isCombined, dictPricing) = CombineThem(lstTitle, lstPrice)\n",
    "if isCombined == True:\n",
    "    print(dictPricing)"
   ]
  },
  {
   "cell_type": "markdown",
   "id": "a4acdb7d-7c66-4347-95db-78ccc1c6ca76",
   "metadata": {},
   "source": [
    "<h2>Change dictionary to dataframe</h2>"
   ]
  },
  {
   "cell_type": "code",
   "execution_count": 71,
   "id": "a4867e50-acf4-47d7-bd3f-a8daef243437",
   "metadata": {},
   "outputs": [
    {
     "data": {
      "text/html": [
       "<div>\n",
       "<style scoped>\n",
       "    .dataframe tbody tr th:only-of-type {\n",
       "        vertical-align: middle;\n",
       "    }\n",
       "\n",
       "    .dataframe tbody tr th {\n",
       "        vertical-align: top;\n",
       "    }\n",
       "\n",
       "    .dataframe thead th {\n",
       "        text-align: right;\n",
       "    }\n",
       "</style>\n",
       "<table border=\"1\" class=\"dataframe\">\n",
       "  <thead>\n",
       "    <tr style=\"text-align: right;\">\n",
       "      <th></th>\n",
       "      <th>title</th>\n",
       "      <th>price</th>\n",
       "    </tr>\n",
       "  </thead>\n",
       "  <tbody>\n",
       "    <tr>\n",
       "      <th>0</th>\n",
       "      <td>A Light in the Attic</td>\n",
       "      <td>£51.77</td>\n",
       "    </tr>\n",
       "    <tr>\n",
       "      <th>1</th>\n",
       "      <td>Tipping the Velvet</td>\n",
       "      <td>£53.74</td>\n",
       "    </tr>\n",
       "    <tr>\n",
       "      <th>2</th>\n",
       "      <td>Soumission</td>\n",
       "      <td>£50.10</td>\n",
       "    </tr>\n",
       "    <tr>\n",
       "      <th>3</th>\n",
       "      <td>Sharp Objects</td>\n",
       "      <td>£47.82</td>\n",
       "    </tr>\n",
       "    <tr>\n",
       "      <th>4</th>\n",
       "      <td>Sapiens: A Brief History of Humankind</td>\n",
       "      <td>£54.23</td>\n",
       "    </tr>\n",
       "    <tr>\n",
       "      <th>5</th>\n",
       "      <td>The Requiem Red</td>\n",
       "      <td>£22.65</td>\n",
       "    </tr>\n",
       "    <tr>\n",
       "      <th>6</th>\n",
       "      <td>The Dirty Little Secrets of Getting Your Dream...</td>\n",
       "      <td>£33.34</td>\n",
       "    </tr>\n",
       "    <tr>\n",
       "      <th>7</th>\n",
       "      <td>The Coming Woman: A Novel Based on the Life of...</td>\n",
       "      <td>£17.93</td>\n",
       "    </tr>\n",
       "    <tr>\n",
       "      <th>8</th>\n",
       "      <td>The Boys in the Boat: Nine Americans and Their...</td>\n",
       "      <td>£22.60</td>\n",
       "    </tr>\n",
       "    <tr>\n",
       "      <th>9</th>\n",
       "      <td>The Black Maria</td>\n",
       "      <td>£52.15</td>\n",
       "    </tr>\n",
       "    <tr>\n",
       "      <th>10</th>\n",
       "      <td>Starving Hearts (Triangular Trade Trilogy, #1)</td>\n",
       "      <td>£13.99</td>\n",
       "    </tr>\n",
       "    <tr>\n",
       "      <th>11</th>\n",
       "      <td>Shakespeare's Sonnets</td>\n",
       "      <td>£20.66</td>\n",
       "    </tr>\n",
       "    <tr>\n",
       "      <th>12</th>\n",
       "      <td>Set Me Free</td>\n",
       "      <td>£17.46</td>\n",
       "    </tr>\n",
       "    <tr>\n",
       "      <th>13</th>\n",
       "      <td>Scott Pilgrim's Precious Little Life (Scott Pi...</td>\n",
       "      <td>£52.29</td>\n",
       "    </tr>\n",
       "    <tr>\n",
       "      <th>14</th>\n",
       "      <td>Rip it Up and Start Again</td>\n",
       "      <td>£35.02</td>\n",
       "    </tr>\n",
       "    <tr>\n",
       "      <th>15</th>\n",
       "      <td>Our Band Could Be Your Life: Scenes from the A...</td>\n",
       "      <td>£57.25</td>\n",
       "    </tr>\n",
       "    <tr>\n",
       "      <th>16</th>\n",
       "      <td>Olio</td>\n",
       "      <td>£23.88</td>\n",
       "    </tr>\n",
       "    <tr>\n",
       "      <th>17</th>\n",
       "      <td>Mesaerion: The Best Science Fiction Stories 18...</td>\n",
       "      <td>£37.59</td>\n",
       "    </tr>\n",
       "    <tr>\n",
       "      <th>18</th>\n",
       "      <td>Libertarianism for Beginners</td>\n",
       "      <td>£51.33</td>\n",
       "    </tr>\n",
       "    <tr>\n",
       "      <th>19</th>\n",
       "      <td>It's Only the Himalayas</td>\n",
       "      <td>£45.17</td>\n",
       "    </tr>\n",
       "  </tbody>\n",
       "</table>\n",
       "</div>"
      ],
      "text/plain": [
       "                                                title   price\n",
       "0                                A Light in the Attic  £51.77\n",
       "1                                  Tipping the Velvet  £53.74\n",
       "2                                          Soumission  £50.10\n",
       "3                                       Sharp Objects  £47.82\n",
       "4               Sapiens: A Brief History of Humankind  £54.23\n",
       "5                                     The Requiem Red  £22.65\n",
       "6   The Dirty Little Secrets of Getting Your Dream...  £33.34\n",
       "7   The Coming Woman: A Novel Based on the Life of...  £17.93\n",
       "8   The Boys in the Boat: Nine Americans and Their...  £22.60\n",
       "9                                     The Black Maria  £52.15\n",
       "10     Starving Hearts (Triangular Trade Trilogy, #1)  £13.99\n",
       "11                              Shakespeare's Sonnets  £20.66\n",
       "12                                        Set Me Free  £17.46\n",
       "13  Scott Pilgrim's Precious Little Life (Scott Pi...  £52.29\n",
       "14                          Rip it Up and Start Again  £35.02\n",
       "15  Our Band Could Be Your Life: Scenes from the A...  £57.25\n",
       "16                                               Olio  £23.88\n",
       "17  Mesaerion: The Best Science Fiction Stories 18...  £37.59\n",
       "18                       Libertarianism for Beginners  £51.33\n",
       "19                            It's Only the Himalayas  £45.17"
      ]
     },
     "execution_count": 71,
     "metadata": {},
     "output_type": "execute_result"
    }
   ],
   "source": [
    "import pandas as pd\n",
    "dfBook = pd.DataFrame(dictPricing, index=None, columns=None)\n",
    "dfBook"
   ]
  }
 ],
 "metadata": {
  "kernelspec": {
   "display_name": "Python 3 (ipykernel)",
   "language": "python",
   "name": "python3"
  },
  "language_info": {
   "codemirror_mode": {
    "name": "ipython",
    "version": 3
   },
   "file_extension": ".py",
   "mimetype": "text/x-python",
   "name": "python",
   "nbconvert_exporter": "python",
   "pygments_lexer": "ipython3",
   "version": "3.12.3"
  }
 },
 "nbformat": 4,
 "nbformat_minor": 5
}

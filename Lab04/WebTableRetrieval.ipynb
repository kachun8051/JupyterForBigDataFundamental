{
 "cells": [
  {
   "cell_type": "markdown",
   "id": "ed4d2b28-483a-45f5-8155-4f7cf4ce0493",
   "metadata": {},
   "source": [
    "<h2>Copy the doctor list from Web</h2>"
   ]
  },
  {
   "cell_type": "code",
   "execution_count": 8,
   "id": "c30fae7a-e501-497a-807c-b7045c472047",
   "metadata": {},
   "outputs": [
    {
     "name": "stdout",
     "output_type": "stream",
     "text": [
      "Page 1 is retrieved at 18/08/2024 21:35:46.\n",
      "Page 2 is retrieved at 18/08/2024 21:35:46.\n",
      "Page 3 is retrieved at 18/08/2024 21:35:51.\n",
      "**************************************************\n",
      "All pages are fetched.\n",
      "complete.\n"
     ]
    }
   ],
   "source": [
    "import bs4\n",
    "from bs4 import BeautifulSoup as bs\n",
    "import requests\n",
    "import pandas as pd\n",
    "from datetime import datetime\n",
    "\n",
    "def getNowTime():\n",
    "    now = datetime.now()\n",
    "    # dd/mm/YY H:M:S\n",
    "    dt = now.strftime(\"%d/%m/%Y %H:%M:%S\")\n",
    "    return dt\n",
    "\n",
    "def pageText(_page: int)-> dict:\n",
    "    link = f'https://www.mchk.org.hk/tc_chi/list_register/list.php?page={_page}&ipp=20&type=L'\n",
    "    content = requests.get(link).text\n",
    "    soup = bs(content, 'html.parser')\n",
    "    lstReg = colText(soup, 'reg')\n",
    "    lstName = colText(soup, 'name')\n",
    "    lstDate = colText(soup, 'date')\n",
    "    lstQualification = colText(soup, 'qualification')\n",
    "    lstQuali = [x for (i, x) in enumerate(lstQualification) if i % 2 == 0]\n",
    "    lstYear = [x for (i, x) in enumerate(lstQualification) if i % 2 != 0]\n",
    "    myDict = {'regno': lstReg, 'name': lstName, 'address': lstDate, 'qualification': lstQuali, 'year': lstYear}\n",
    "    return myDict\n",
    "\n",
    "# column text according to headers\n",
    "def colText(_soup: bs, _headers: str)->list:\n",
    "    lst = []\n",
    "    all_text = _soup.findAll(\"td\", attrs={'headers': _headers})    \n",
    "    for txt in all_text:\n",
    "        num = txt.get(\"rowspan\")\n",
    "        if num == None: # no rowspan\n",
    "            lst.append(txt.text)\n",
    "            continue        \n",
    "        if num == \"1\":\n",
    "            lst.append(txt.text)\n",
    "            continue\n",
    "        if num != \"1\":\n",
    "            for j in range(int(num)):\n",
    "                lst.append(txt.text)\n",
    "    return lst\n",
    "\n",
    "def mergeDict(_dict1: dict, _dict2: dict) -> dict:\n",
    "    for key, value in _dict2.items():\n",
    "        if key in _dict1:\n",
    "            _dict1[key] = _dict1[key] + value\n",
    "        else:\n",
    "            _dict1[key] = value\n",
    "    return _dict1\n",
    "    \n",
    "lstOfDict = []\n",
    "#dict_all = {}\n",
    "def fetchAllPages(_page: int) -> dict:    \n",
    "    for i in range(1, _page+1): \n",
    "        dict_1 = pageText(i)\n",
    "        lstOfDict.append(dict_1)\n",
    "        dt1 = getNowTime()\n",
    "        print(f'Page {i} is retrieved at {dt1}.')\n",
    "    dict_all = {}\n",
    "    for dict1 in lstOfDict:\n",
    "        mergeDict(dict_all, dict1)\n",
    "    return dict_all\n",
    "\n",
    "myDict = fetchAllPages(3)\n",
    "print('*'*50)\n",
    "print('All pages are fetched.')\n",
    "df = pd.DataFrame(myDict)\n",
    "#df\n",
    "df.to_excel(\"..\\\\output04\\\\doctorlist.xlsx\")\n",
    "print(\"complete.\")"
   ]
  },
  {
   "cell_type": "code",
   "execution_count": 11,
   "id": "f0e2782f-f25b-41b0-9309-5a91ad10ed6e",
   "metadata": {},
   "outputs": [
    {
     "name": "stdout",
     "output_type": "stream",
     "text": [
      "Page 1 is retrieved at 18/08/2024 21:36:51.\n",
      "Page 2 is retrieved at 18/08/2024 21:36:52.\n",
      "Page 3 is retrieved at 18/08/2024 21:36:52.\n",
      "**************************************************\n",
      "All pages are fetched.\n",
      "complete.\n"
     ]
    }
   ],
   "source": [
    "# %load webtableretrieval.py\n",
    "# %load webtableretrieval.py\n",
    "import bs4\n",
    "from bs4 import BeautifulSoup as bs\n",
    "import requests\n",
    "import pandas as pd\n",
    "from datetime import datetime\n",
    "\n",
    "def getNowTime():\n",
    "    now = datetime.now()\n",
    "    # dd/mm/YY H:M:S\n",
    "    dt = now.strftime(\"%d/%m/%Y %H:%M:%S\")\n",
    "    return dt\n",
    "\n",
    "def pageText(_page: int)-> dict:\n",
    "    link = f'https://www.mchk.org.hk/tc_chi/list_register/list.php?page={_page}&ipp=20&type=L'\n",
    "    content = requests.get(link).text\n",
    "    soup = bs(content, 'html.parser')\n",
    "    lstReg = colText(soup, 'reg')\n",
    "    lstName = colText(soup, 'name')\n",
    "    lstDate = colText(soup, 'date')\n",
    "    lstQualification = colText(soup, 'qualification')\n",
    "    lstQuali = [x for (i, x) in enumerate(lstQualification) if i % 2 == 0]\n",
    "    lstYear = [x for (i, x) in enumerate(lstQualification) if i % 2 != 0]\n",
    "    myDict = {'regno': lstReg, 'name': lstName, 'address': lstDate, 'qualification': lstQuali, 'year': lstYear}\n",
    "    return myDict\n",
    "\n",
    "# column text according to headers\n",
    "def colText(_soup: bs, _headers: str)->list:\n",
    "    lst = []\n",
    "    all_text = _soup.findAll(\"td\", attrs={'headers': _headers})    \n",
    "    for txt in all_text:\n",
    "        num = txt.get(\"rowspan\")\n",
    "        if num == None: # no rowspan\n",
    "            lst.append(txt.text)\n",
    "            continue        \n",
    "        if num == \"1\":\n",
    "            lst.append(txt.text)\n",
    "            continue\n",
    "        if num != \"1\":\n",
    "            for j in range(int(num)):\n",
    "                lst.append(txt.text)\n",
    "    return lst\n",
    "\n",
    "def mergeDict(_dict1: dict, _dict2: dict) -> dict:\n",
    "    for key, value in _dict2.items():\n",
    "        if key in _dict1:\n",
    "            _dict1[key] = _dict1[key] + value\n",
    "        else:\n",
    "            _dict1[key] = value\n",
    "    return _dict1\n",
    "    \n",
    "lstOfDict = []\n",
    "#dict_all = {}\n",
    "def fetchAllPages(_page: int) -> dict:    \n",
    "    for i in range(1, _page+1): \n",
    "        dict_1 = pageText(i)\n",
    "        lstOfDict.append(dict_1)\n",
    "        print(f'Page {i} is retrieved at: {getNowTime()}.')\n",
    "    dict_all = {}\n",
    "    for dict1 in lstOfDict:\n",
    "        mergeDict(dict_all, dict1)\n",
    "    return dict_all\n",
    "\n",
    "myDict = fetchAllPages(3)\n",
    "print('*'*50)\n",
    "print('All pages are fetched.')\n",
    "df = pd.DataFrame(myDict)\n",
    "#df\n",
    "df.to_excel(\"doctorlist.xlsx\")\n",
    "print(\"complete.\")"
   ]
  },
  {
   "cell_type": "markdown",
   "id": "87752266-a1e2-4c34-8e1d-7175bc286ad1",
   "metadata": {},
   "source": []
  },
  {
   "cell_type": "code",
   "execution_count": 9,
   "id": "d8d41142-dcfb-4969-b5b6-0d718df26ca1",
   "metadata": {},
   "outputs": [],
   "source": []
  },
  {
   "cell_type": "code",
   "execution_count": 10,
   "id": "25be318f-f8fd-421a-8f98-f924d3354698",
   "metadata": {},
   "outputs": [],
   "source": []
  },
  {
   "cell_type": "code",
   "execution_count": 11,
   "id": "16b7306a-80df-4d3c-9798-87900eadf3c3",
   "metadata": {},
   "outputs": [],
   "source": []
  },
  {
   "cell_type": "code",
   "execution_count": 16,
   "id": "6981208a-0a2d-44c1-9c2d-d5b7dca648ff",
   "metadata": {},
   "outputs": [],
   "source": []
  },
  {
   "cell_type": "code",
   "execution_count": 17,
   "id": "5751ae62-5d9a-42a1-ad4e-df32aee90d82",
   "metadata": {},
   "outputs": [
    {
     "name": "stdout",
     "output_type": "stream",
     "text": [
      "1  is fetched at:  26/08/2024 18:32:34\n",
      "3  is fetched at:  26/08/2024 18:32:34\n",
      "4  is fetched at:  26/08/2024 18:32:34\n",
      "2  is fetched at:  26/08/2024 18:32:34\n",
      "All 4 pages are fetched!\n"
     ]
    }
   ],
   "source": []
  },
  {
   "cell_type": "code",
   "execution_count": null,
   "id": "a469e531-7e32-4e57-bb6d-1c0248d9380b",
   "metadata": {},
   "outputs": [],
   "source": []
  },
  {
   "cell_type": "code",
   "execution_count": null,
   "id": "2b916998-095d-4452-99f5-68b297044c48",
   "metadata": {},
   "outputs": [],
   "source": []
  }
 ],
 "metadata": {
  "kernelspec": {
   "display_name": "Python 3 (ipykernel)",
   "language": "python",
   "name": "python3"
  },
  "language_info": {
   "codemirror_mode": {
    "name": "ipython",
    "version": 3
   },
   "file_extension": ".py",
   "mimetype": "text/x-python",
   "name": "python",
   "nbconvert_exporter": "python",
   "pygments_lexer": "ipython3",
   "version": "3.12.3"
  }
 },
 "nbformat": 4,
 "nbformat_minor": 5
}

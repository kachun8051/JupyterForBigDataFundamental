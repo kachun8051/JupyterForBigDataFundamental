{
 "cells": [
  {
   "cell_type": "markdown",
   "id": "41dc31d4-8a99-4226-9597-58c55279ec0f",
   "metadata": {},
   "source": [
    "<h2>Download the html content by inputing cookies</h2>"
   ]
  },
  {
   "cell_type": "code",
   "execution_count": 9,
   "id": "b413ba58-5f0e-4c9b-a39e-936da1da61a9",
   "metadata": {},
   "outputs": [
    {
     "name": "stdout",
     "output_type": "stream",
     "text": [
      "contactlist.html 的內容已成功保存到 requests2_8.html。\n"
     ]
    }
   ],
   "source": [
    "import requests\n",
    "\n",
    "# 網址設定\n",
    "index_url = 'https://storage.cloud.google.com/webpagebucket/index.html'\n",
    "contact_url = 'https://storage.cloud.google.com/webpagebucket/contactlist.html'\n",
    "\n",
    "index_url2 = 'http://lausir999.125mb.com/index.html'\n",
    "contact_url2 = 'http://lausir999.125mb.com/css_contact.html'\n",
    "\n",
    "# 使用 requests 發送 HTTP 請求來讀取 index.html\n",
    "response_index = requests.get(index_url2)\n",
    "\n",
    "# 檢查是否成功訪問頁面\n",
    "if response_index.status_code == 200:\n",
    "    # 假設這個頁面需要設置一個 cookie 來通過年齡驗證\n",
    "    # 此處模擬已通過年齡驗證，設置 cookies\n",
    "    cookies = {'over100': '1'}\n",
    "    # 使用設置好的 cookies 再次請求訪問 contact 頁面\n",
    "    response_contact = requests.get(contact_url2, cookies=cookies)\n",
    "    \n",
    "    # 檢查第二個頁面的訪問是否成功\n",
    "    if response_contact.status_code == 200:\n",
    "        urloutput = '..\\\\output04\\\\requests2.html'\n",
    "        # 將得到的 HTML 內容寫入本地文件\n",
    "        with open(urloutput, 'w', encoding='utf-8') as file:\n",
    "            file.write(response_contact.text)\n",
    "        print(\"contactlist.html 的內容已成功保存到 requests2_8.html。\")\n",
    "    else:\n",
    "        print(\"無法訪問 contactlist.html，請檢查網絡或網址。\")\n",
    "else:\n",
    "    print(\"無法訪問 index.html，請檢查網絡或網址。\")\n"
   ]
  },
  {
   "cell_type": "markdown",
   "id": "c2e91fe4-f5f2-4008-9863-38aa66a2b0d8",
   "metadata": {},
   "source": [
    "<h2>1. Download the table</h2>"
   ]
  },
  {
   "cell_type": "code",
   "execution_count": null,
   "id": "66717dc5-05c9-4fe4-931a-cf7f4e97e38b",
   "metadata": {},
   "outputs": [],
   "source": [
    "import requests\n",
    "from bs4 import BeautifulSoup\n",
    "import pandas as pd\n",
    "\n",
    "# 發出HTTP請求獲取網頁內容\n",
    "url_2 = \"http://lausir999.125mb.com/css_contact.html\"\n",
    "response = requests.get(url_2)\n",
    "response.encoding = 'utf-8'\n",
    "\n",
    "# 使用BeautifulSoup解析HTML\n",
    "soup = BeautifulSoup(response.text, 'html.parser')\n",
    "\n",
    "# 列印HTML內容以檢查表格結構\n",
    "print(soup.prettify())\n",
    "\n",
    "# 找到表格\n",
    "#table = soup.find('table', {'id': 'Table_5'})\n",
    "table = soup.find('table')\n",
    "if table is None:\n",
    "    raise ValueError(\"未找到指定的表格。\")\n",
    "\n",
    "print(\"Download Completed.\")"
   ]
  },
  {
   "cell_type": "code",
   "execution_count": 7,
   "id": "20a4291b-4448-47a2-aaa2-74a73f5b7bef",
   "metadata": {},
   "outputs": [
    {
     "name": "stdout",
     "output_type": "stream",
     "text": [
      "<tr>\n",
      "<th>Name of the department</th>\n",
      "<th>Contact phone number</th>\n",
      "<th>Email address or Link</th>\n",
      "</tr>\n",
      "[<tr>\n",
      "<td width=\"40%\">Accounts Receivable (student bills)</td>\n",
      "<td width=\"20%\">970-351-4862</td>\n",
      "<td width=\"40%\"><a href=\"mailto:bursar@lausir999.com\">bursar@lausir999.com</a></td>\n",
      "</tr>, <tr>\n",
      "<td>Admissions</td>\n",
      "<td>970-351-2881</td>\n",
      "<td><a href=\"mailto:admissions@lausir999.com\">admissions@lausir999.com</a></td>\n",
      "</tr>, <tr>\n",
      "<td>Alumni Association</td>\n",
      "<td>970-351-2551</td>\n",
      "<td><a href=\"mailto:alumni@lausir999.com\">alumni@lausir999.com</a></td>\n",
      "</tr>]\n"
     ]
    }
   ],
   "source": [
    "# rows[0] 係 header i.e. <th>xxx</th>\n",
    "# rows[1:] 係 row i.e. <td>xxx</td>\n",
    "print(rows[0])\n",
    "print(rows[1:][0:3]) # first 3 entries"
   ]
  },
  {
   "cell_type": "markdown",
   "id": "b4345b46-5730-4b5d-a472-521d50d8fc69",
   "metadata": {},
   "source": [
    "<h2>Header</h2>"
   ]
  },
  {
   "cell_type": "code",
   "execution_count": 9,
   "id": "46fc5fa0-e873-4583-b2db-715bda54c41d",
   "metadata": {},
   "outputs": [
    {
     "name": "stdout",
     "output_type": "stream",
     "text": [
      "['Name of the department', 'Contact phone number', 'Email address or Link']\n"
     ]
    }
   ],
   "source": [
    "data_unit_1 = []\n",
    "\n",
    "# 提取表頭\n",
    "header_row = rows[0]\n",
    "header_cells = header_row.find_all(['th'])\n",
    "headers = [cell.get_text(strip=True) for cell in header_cells]\n",
    "\n",
    "print(headers)"
   ]
  },
  {
   "cell_type": "markdown",
   "id": "b8122b6c-0a7e-4bf6-96c5-8c183029218e",
   "metadata": {},
   "source": [
    "<h2>Rows</h2>"
   ]
  },
  {
   "cell_type": "code",
   "execution_count": 11,
   "id": "1ef16255-d963-49c0-b528-f843c64cd1d9",
   "metadata": {},
   "outputs": [
    {
     "name": "stdout",
     "output_type": "stream",
     "text": [
      "資料單元1: [['Accounts Receivable (student bills)', '970-351-4862', 'bursar@lausir999.com'], ['Admissions', '970-351-2881', 'admissions@lausir999.com'], ['Alumni Association', '970-351-2551', 'alumni@lausir999.com'], ['Anonymous Reporting Tool', '', 'MySafe Campus (/mysafecampus/)'], ['Athletics', '970-351-2534', 'athletics@lausir999.com']]\n"
     ]
    }
   ],
   "source": [
    "# 獲取所有行，包括表頭和資料行\n",
    "rows = table.find_all('tr')\n",
    "# 遍歷表格行\n",
    "for row in rows[1:]:\n",
    "    cells = row.find_all('td')\n",
    "    if len(cells) > 0:\n",
    "        # 提取儲存格文本，並保留分行符號以確保每個儲存格的資料被正確處理\n",
    "        row_data = [cell.get_text(separator=\"\\n\", strip=True) for cell in cells]\n",
    "        if len(row_data) == len(headers):\n",
    "            data_unit_1.append(row_data)\n",
    "        else:\n",
    "            print(f\"列數不匹配: {row_data}\")\n",
    "\n",
    "# 檢查收集到的資料\n",
    "print(f\"資料單元1: {data_unit_1[:5]}\")  # 只列印前5行檢查資料\n"
   ]
  },
  {
   "cell_type": "code",
   "execution_count": 12,
   "id": "b9c12c2f-ec07-470e-a12d-cf165a3a4553",
   "metadata": {},
   "outputs": [
    {
     "data": {
      "text/html": [
       "<div>\n",
       "<style scoped>\n",
       "    .dataframe tbody tr th:only-of-type {\n",
       "        vertical-align: middle;\n",
       "    }\n",
       "\n",
       "    .dataframe tbody tr th {\n",
       "        vertical-align: top;\n",
       "    }\n",
       "\n",
       "    .dataframe thead th {\n",
       "        text-align: right;\n",
       "    }\n",
       "</style>\n",
       "<table border=\"1\" class=\"dataframe\">\n",
       "  <thead>\n",
       "    <tr style=\"text-align: right;\">\n",
       "      <th></th>\n",
       "      <th>Name of the department</th>\n",
       "      <th>Contact phone number</th>\n",
       "      <th>Email address or Link</th>\n",
       "    </tr>\n",
       "  </thead>\n",
       "  <tbody>\n",
       "    <tr>\n",
       "      <th>0</th>\n",
       "      <td>Accounts Receivable (student bills)</td>\n",
       "      <td>970-351-4862</td>\n",
       "      <td>bursar@lausir999.com</td>\n",
       "    </tr>\n",
       "    <tr>\n",
       "      <th>1</th>\n",
       "      <td>Admissions</td>\n",
       "      <td>970-351-2881</td>\n",
       "      <td>admissions@lausir999.com</td>\n",
       "    </tr>\n",
       "    <tr>\n",
       "      <th>2</th>\n",
       "      <td>Alumni Association</td>\n",
       "      <td>970-351-2551</td>\n",
       "      <td>alumni@lausir999.com</td>\n",
       "    </tr>\n",
       "    <tr>\n",
       "      <th>3</th>\n",
       "      <td>Anonymous Reporting Tool</td>\n",
       "      <td></td>\n",
       "      <td>MySafe Campus (/mysafecampus/)</td>\n",
       "    </tr>\n",
       "    <tr>\n",
       "      <th>4</th>\n",
       "      <td>Athletics</td>\n",
       "      <td>970-351-2534</td>\n",
       "      <td>athletics@lausir999.com</td>\n",
       "    </tr>\n",
       "    <tr>\n",
       "      <th>...</th>\n",
       "      <td>...</td>\n",
       "      <td>...</td>\n",
       "      <td>...</td>\n",
       "    </tr>\n",
       "    <tr>\n",
       "      <th>61</th>\n",
       "      <td>University Information</td>\n",
       "      <td>970-351-1890</td>\n",
       "      <td></td>\n",
       "    </tr>\n",
       "    <tr>\n",
       "      <th>62</th>\n",
       "      <td>Technical Support Center to submittechnicalque...</td>\n",
       "      <td>970-351-4357 (HELP)</td>\n",
       "      <td>IMT Services (/information-management-technolo...</td>\n",
       "    </tr>\n",
       "    <tr>\n",
       "      <th>63</th>\n",
       "      <td>Visit Academic Areas</td>\n",
       "      <td></td>\n",
       "      <td>Academic Areas and Programs page (/directory/d...</td>\n",
       "    </tr>\n",
       "    <tr>\n",
       "      <th>64</th>\n",
       "      <td>Visit Administrative Departments</td>\n",
       "      <td></td>\n",
       "      <td>Administrative Departments page (/directory/de...</td>\n",
       "    </tr>\n",
       "    <tr>\n",
       "      <th>65</th>\n",
       "      <td>Visitors Center</td>\n",
       "      <td>970-351-2881</td>\n",
       "      <td>admissions@lausir999.com</td>\n",
       "    </tr>\n",
       "  </tbody>\n",
       "</table>\n",
       "<p>66 rows × 3 columns</p>\n",
       "</div>"
      ],
      "text/plain": [
       "                               Name of the department Contact phone number  \\\n",
       "0                 Accounts Receivable (student bills)         970-351-4862   \n",
       "1                                          Admissions         970-351-2881   \n",
       "2                                  Alumni Association         970-351-2551   \n",
       "3                            Anonymous Reporting Tool                        \n",
       "4                                           Athletics         970-351-2534   \n",
       "..                                                ...                  ...   \n",
       "61                             University Information         970-351-1890   \n",
       "62  Technical Support Center to submittechnicalque...  970-351-4357 (HELP)   \n",
       "63                               Visit Academic Areas                        \n",
       "64                   Visit Administrative Departments                        \n",
       "65                                    Visitors Center         970-351-2881   \n",
       "\n",
       "                                Email address or Link  \n",
       "0                                bursar@lausir999.com  \n",
       "1                            admissions@lausir999.com  \n",
       "2                                alumni@lausir999.com  \n",
       "3                      MySafe Campus (/mysafecampus/)  \n",
       "4                             athletics@lausir999.com  \n",
       "..                                                ...  \n",
       "61                                                     \n",
       "62  IMT Services (/information-management-technolo...  \n",
       "63  Academic Areas and Programs page (/directory/d...  \n",
       "64  Administrative Departments page (/directory/de...  \n",
       "65                           admissions@lausir999.com  \n",
       "\n",
       "[66 rows x 3 columns]"
      ]
     },
     "execution_count": 12,
     "metadata": {},
     "output_type": "execute_result"
    }
   ],
   "source": [
    "# 將資料轉換為 DataFrame 並保存為CSV檔\n",
    "df_unit_1 = pd.DataFrame(data_unit_1, columns=headers)\n",
    "df_unit_1"
   ]
  },
  {
   "cell_type": "code",
   "execution_count": null,
   "id": "71ed0f97-5fef-4322-9630-0ae03b0f41a9",
   "metadata": {},
   "outputs": [],
   "source": [
    "# 並保存為CSV檔\n",
    "df_unit_1.to_csv('data_unit_2.csv', index=False, encoding='utf-8-sig')\n",
    "print(\"資料已成功提取並保存為CSV檔。\")"
   ]
  }
 ],
 "metadata": {
  "kernelspec": {
   "display_name": "Python 3 (ipykernel)",
   "language": "python",
   "name": "python3"
  },
  "language_info": {
   "codemirror_mode": {
    "name": "ipython",
    "version": 3
   },
   "file_extension": ".py",
   "mimetype": "text/x-python",
   "name": "python",
   "nbconvert_exporter": "python",
   "pygments_lexer": "ipython3",
   "version": "3.12.3"
  }
 },
 "nbformat": 4,
 "nbformat_minor": 5
}

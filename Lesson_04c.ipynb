{
 "cells": [
  {
   "cell_type": "markdown",
   "id": "7cfb93d9-b428-4606-a5f8-64fab9d39453",
   "metadata": {},
   "source": [
    "<h2>Dynamic Array as Index of DataFrame</h2>"
   ]
  },
  {
   "cell_type": "code",
   "execution_count": 1,
   "id": "a1fe9e12-032b-4fe5-8ef4-0fbd53b9b817",
   "metadata": {},
   "outputs": [
    {
     "name": "stdout",
     "output_type": "stream",
     "text": [
      "['man1', 'man2', 'man3', 'man4']\n"
     ]
    }
   ],
   "source": [
    "data_1=['Tom','Jack','Steve','Ricky']\n",
    "myList = [f'man{x+1}' for x in range(len(data_1))]\n",
    "print(myList)"
   ]
  },
  {
   "cell_type": "markdown",
   "id": "e69df304-4a64-4cc0-9c87-6f2ae5df4821",
   "metadata": {},
   "source": [
    "<h2>DataFrame 與 Series</h2>"
   ]
  },
  {
   "cell_type": "code",
   "execution_count": 8,
   "id": "a1c25010-e60d-4ecb-aed8-80a8454b5b40",
   "metadata": {},
   "outputs": [
    {
     "name": "stdout",
     "output_type": "stream",
     "text": [
      "List:\n",
      " ['Tom', 'Jack', 'Steve', 'Ricky']\n",
      "==================================================\n",
      "DataFrame:\n",
      "        0\n",
      "0    Tom\n",
      "1   Jack\n",
      "2  Steve\n",
      "3  Ricky\n",
      "==================================================\n",
      "Series:\n",
      " 0      Tom\n",
      "1     Jack\n",
      "2    Steve\n",
      "3    Ricky\n",
      "dtype: object\n",
      "==================================================\n",
      "DataFrame with index and column:\n",
      "       Names\n",
      "man1    Tom\n",
      "man2   Jack\n",
      "man3  Steve\n",
      "man4  Ricky\n",
      "==================================================\n"
     ]
    }
   ],
   "source": [
    "import pandas as pd\n",
    "data=['Tom','Jack','Steve','Ricky']\n",
    "print('List:\\n', data)\n",
    "print('='*50)\n",
    "df=pd.DataFrame(data) #DataFrame可以有多個Columns，而Columns都會有索引標籤\n",
    "print('DataFrame:\\n', df)\n",
    "print('='*50)\n",
    "s1=pd.Series(data) #Series只有一個Column\n",
    "print('Series:\\n', s1)\n",
    "print('='*50)\n",
    "myIndex = [f'man{x+1}' for x in range(len(data))]\n",
    "df2=pd.DataFrame(data,index=myIndex, columns=['Names'])\n",
    "print('DataFrame with index and column:\\n', df2)\n",
    "print('='*50)"
   ]
  },
  {
   "cell_type": "markdown",
   "id": "74a53416-1323-475d-b8c9-7ea8fecbb709",
   "metadata": {},
   "source": [
    "<h2>Combine 2 Lists to DataFrame</h2>"
   ]
  },
  {
   "cell_type": "code",
   "execution_count": 9,
   "id": "94955c51-c930-4d00-bd83-29d2a08b9e13",
   "metadata": {},
   "outputs": [
    {
     "name": "stdout",
     "output_type": "stream",
     "text": [
      "     XGroup  XNumber\n",
      "0    Python       59\n",
      "1    Django        9\n",
      "2    Sqlite       19\n",
      "3     Numpy       14\n",
      "4  Security        6\n",
      "5    Pandas       77\n"
     ]
    }
   ],
   "source": [
    "import pandas as pd\n",
    "groups=['Python','Django','Sqlite','Numpy','Security','Pandas']\n",
    "numbers=[59,9,19,14,6,77]\n",
    "# mydict = {'Python': 59, 'Django': 9, 'Sqlite': 19, 'Numpy': 14, 'Security': 6, 'Pandas': 77}\n",
    "# print(mydict)\n",
    "# combine 2 lists into a dictionary\n",
    "mydict2 = {'XGroup': groups, 'XNumber': numbers}\n",
    "df = pd.DataFrame(mydict2)\n",
    "print(df)"
   ]
  },
  {
   "cell_type": "markdown",
   "id": "22e0011e-e776-407d-85ed-896891576bdb",
   "metadata": {},
   "source": [
    "<h2>Two dimension array</h2>"
   ]
  },
  {
   "cell_type": "code",
   "execution_count": 10,
   "id": "40eafed6-df6d-4135-9e7d-3ee06b81fc84",
   "metadata": {},
   "outputs": [
    {
     "name": "stdout",
     "output_type": "stream",
     "text": [
      "[[0, 1, 2], [3, 4, 5], [6, 7, 8]]\n",
      "Type:  <class 'list'>\n"
     ]
    }
   ],
   "source": [
    "lst = [[0,1,2], [3,4,5], [6,7,8]]\n",
    "print(lst)\n",
    "print(\"Type: \", type(lst))"
   ]
  },
  {
   "cell_type": "markdown",
   "id": "5af3ef95-58c8-4dcc-adb1-a8bc70a4a296",
   "metadata": {},
   "source": [
    "<h2>Numpy N-dimensional array</h2>"
   ]
  },
  {
   "cell_type": "code",
   "execution_count": 11,
   "id": "f5a37ce8-f604-45a2-928f-d9cc01d35b40",
   "metadata": {},
   "outputs": [
    {
     "name": "stdout",
     "output_type": "stream",
     "text": [
      "[[ 0  1  2]\n",
      " [ 3  4  5]\n",
      " [ 6  7  8]\n",
      " [ 9 10 11]]\n",
      "<class 'numpy.ndarray'>\n"
     ]
    }
   ],
   "source": [
    "import numpy as np\n",
    "import pandas as pd\n",
    "mynp = np.arange(12).reshape(4,3)\n",
    "print(mynp)\n",
    "print(type(mynp))"
   ]
  },
  {
   "cell_type": "code",
   "execution_count": 12,
   "id": "b59bdd80-dd98-4818-8b9b-b276709e09d7",
   "metadata": {},
   "outputs": [
    {
     "name": "stdout",
     "output_type": "stream",
     "text": [
      "   X   Y   Z\n",
      "A  0   1   2\n",
      "B  3   4   5\n",
      "C  6   7   8\n",
      "D  9  10  11\n",
      "<class 'pandas.core.frame.DataFrame'>\n"
     ]
    }
   ],
   "source": [
    "df_1 = pd.DataFrame(mynp, index=['A', 'B', 'C', 'D'], columns=['X','Y','Z'])\n",
    "print(df_1)\n",
    "print(type(df_1))"
   ]
  },
  {
   "cell_type": "code",
   "execution_count": null,
   "id": "b520b46f-9751-4597-9b34-d80d0f712c61",
   "metadata": {},
   "outputs": [],
   "source": []
  }
 ],
 "metadata": {
  "kernelspec": {
   "display_name": "Python 3 (ipykernel)",
   "language": "python",
   "name": "python3"
  },
  "language_info": {
   "codemirror_mode": {
    "name": "ipython",
    "version": 3
   },
   "file_extension": ".py",
   "mimetype": "text/x-python",
   "name": "python",
   "nbconvert_exporter": "python",
   "pygments_lexer": "ipython3",
   "version": "3.12.3"
  }
 },
 "nbformat": 4,
 "nbformat_minor": 5
}

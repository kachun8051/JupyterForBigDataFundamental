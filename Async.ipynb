{
 "cells": [
  {
   "cell_type": "code",
   "execution_count": null,
   "id": "266cc9ef-6912-43e3-97de-b9b7d7382851",
   "metadata": {},
   "outputs": [],
   "source": [
    "import asyncio\n",
    "import aiohttp\n",
    "import os\n",
    "from datetime import datetime\n",
    "\n",
    "def getNowTime():\n",
    "    now = datetime.now()\n",
    "    # dd/mm/YY H:M:S\n",
    "    dt = now.strftime(\"%d/%m/%Y %H:%M:%S\")\n",
    "    return dt\n",
    "\n",
    "async def download_image(url, filename):\n",
    "    async with aiohttp.ClientSession() as session:\n",
    "        async with session.get(url) as response:\n",
    "            with open(filename, 'wb') as f:\n",
    "                while True:\n",
    "                    chunk = await response.content.read(1024)\n",
    "                    if not chunk:\n",
    "                        break                        \n",
    "                    f.write(chunk)\n",
    "                    #print(filename, \" is downloaded at: \", getNowTime())\n",
    "\n",
    "async def main():\n",
    "    image_urls = [\n",
    "        'https://www.w3schools.com/css/img_5terre.jpg',\n",
    "        'https://www.w3schools.com/css/img_forest.jpg',\n",
    "        'https://www.w3schools.com/css/img_lights.jpg',\n",
    "        'https://www.w3schools.com/css/img_mountains.jpg'\n",
    "    ]\n",
    "\n",
    "    tasks = []\n",
    "    for i, url in enumerate(image_urls):\n",
    "        filename = f'image_{i+1}.jpg'\n",
    "        tasks.append(download_image(url, \".//outputImages//\" + filename))\n",
    "\n",
    "    await asyncio.gather(*tasks)\n",
    "\n",
    "if __name__ == '__main__':\n",
    "    asyncio.run(main())"
   ]
  },
  {
   "cell_type": "markdown",
   "id": "75e5cbf0-5a84-43f1-9fb2-1f44408c87b0",
   "metadata": {},
   "source": [
    "<h2>ThreadPoolExecutor</h2>"
   ]
  },
  {
   "cell_type": "code",
   "execution_count": null,
   "id": "de9eb86d-3504-477a-8ac3-51f3ff660010",
   "metadata": {},
   "outputs": [],
   "source": [
    "# Reference: https://realpython.com/python-download-file-from-url/\n",
    "from concurrent.futures import ThreadPoolExecutor\n",
    "import requests"
   ]
  },
  {
   "cell_type": "code",
   "execution_count": null,
   "id": "4e8bc8f8-9a63-41c3-b7d4-5f41abf2f009",
   "metadata": {},
   "outputs": [],
   "source": [
    "def download_file(url):\n",
    "    response = requests.get(url)\n",
    "    if \"content-disposition\" in response.headers:\n",
    "        content_disposition = response.headers[\"content-disposition\"]\n",
    "        filename = content_disposition.split(\"filename=\")[1]\n",
    "        filename2 = addSuffix(filename, \"1\")\n",
    "    else:\n",
    "        filename = url.split(\"/\")[-1]\n",
    "        filename2 = addSuffix(filename, \"1\")\n",
    "    with open(f'.//outputImages//{filename2}', mode=\"wb\") as file:\n",
    "        file.write(response.content)\n",
    "    print(f\"Downloaded file {filename}\")"
   ]
  },
  {
   "cell_type": "code",
   "execution_count": null,
   "id": "7844828b-f7a1-42d3-9f4e-cd48e83c9ccf",
   "metadata": {},
   "outputs": [],
   "source": [
    "def addSuffix(fname: str, suff: str) -> str:\n",
    "    if \".\" in fname: \n",
    "        dotIndex = fname.index(\".\")\n",
    "        return fname[:dotIndex]+\"_\"+suff+fname[dotIndex:]\n",
    "    else:\n",
    "        return fname + \"_\" + suff"
   ]
  },
  {
   "cell_type": "code",
   "execution_count": null,
   "id": "e47944ab-e0ee-4bc0-9b99-9d09679dd3fd",
   "metadata": {},
   "outputs": [],
   "source": [
    "image_urls = [\n",
    "        'https://www.w3schools.com/css/img_5terre.jpg',\n",
    "        'https://www.w3schools.com/css/img_forest.jpg',\n",
    "        'https://www.w3schools.com/css/img_lights.jpg',\n",
    "        'https://www.w3schools.com/css/img_mountains.jpg'\n",
    "]"
   ]
  },
  {
   "cell_type": "code",
   "execution_count": null,
   "id": "14f24165-e723-4d55-b0ac-c11b6f5283f3",
   "metadata": {},
   "outputs": [],
   "source": [
    "with ThreadPoolExecutor() as executor:\n",
    "    #executor.map(download_file, urls)\n",
    "    executor.map(download_file, image_urls)"
   ]
  },
  {
   "cell_type": "markdown",
   "id": "4fae256d-028e-474b-8db0-97cd6bfff42a",
   "metadata": {},
   "source": [
    "<h2>Use asyncio and aiohttp</h2>"
   ]
  },
  {
   "cell_type": "code",
   "execution_count": 6,
   "id": "de73d993-b730-4cd7-aea4-1804ffb2b7b6",
   "metadata": {},
   "outputs": [],
   "source": [
    "import nest_asyncio\n",
    "nest_asyncio.apply()"
   ]
  },
  {
   "cell_type": "code",
   "execution_count": 9,
   "id": "62cf45cf-d563-453d-866c-e34dbb1428d0",
   "metadata": {},
   "outputs": [],
   "source": [
    "import asyncio\n",
    "import aiohttp\n",
    "import os\n",
    "from tqdm.notebook import tqdm\n",
    "from datetime import datetime\n",
    "\n",
    "def getNowTime():\n",
    "    now = datetime.now()\n",
    "    # dd/mm/YY H:M:S\n",
    "    dt = now.strftime(\"%d/%m/%Y %H:%M:%S\")\n",
    "    return dt\n",
    "\n",
    "def UrlToFileName(_url: str, _suffix: str) -> str:\n",
    "    filename = _url.split(\"/\")[-1]\n",
    "    if (_suffix == \"\"):\n",
    "        return filename\n",
    "    if \".\" in filename:\n",
    "        foundIndex = filename.index(\".\")\n",
    "        newFileName = f'{filename[:foundIndex]}_{_suffix}{filename[foundIndex:]}'\n",
    "        return newFileName\n",
    "    else:\n",
    "        newFileName = f'{filename}_{_suffix}'\n",
    "        return filename\n",
    "\n",
    "async def download_image2(url):\n",
    "    async with aiohttp.ClientSession() as session:\n",
    "        async with session.get(url) as response:\n",
    "            filename_1 = UrlToFileName(url, \"1\")\n",
    "            with open(\"./outputImages/\" + filename_1, 'wb') as f:\n",
    "                while True:\n",
    "                    chunk = await response.content.read(1024)\n",
    "                    if not chunk:\n",
    "                        break\n",
    "                    f.write(chunk)\n",
    "                print(filename_1, \" is downloaded at: \", getNowTime())\n",
    "\n",
    "def run_downloads():\n",
    "    _url = 'https://www.w3schools.com/css'\n",
    "    image_urls = [ f\"{_url}/img_5terre.jpg\", f\"{_url}/img_forest.jpg\", f\"{_url}/img_lights.jpg\", f\"{_url}/img_mountains.jpg\" ]\n",
    "    tasks = [download_image2(url) for url in image_urls]\n",
    "    asyncio.get_event_loop().run_until_complete(asyncio.gather(*tasks))\n"
   ]
  },
  {
   "cell_type": "code",
   "execution_count": 10,
   "id": "2829f039-5bf6-4af1-b40c-e6ca8a1deff8",
   "metadata": {},
   "outputs": [
    {
     "name": "stdout",
     "output_type": "stream",
     "text": [
      "img_mountains_1.jpg  is downloaded at:  26/08/2024 17:47:07\n",
      "img_lights_1.jpg  is downloaded at:  26/08/2024 17:47:07\n",
      "img_forest_1.jpg  is downloaded at:  26/08/2024 17:47:07\n",
      "img_5terre_1.jpg  is downloaded at:  26/08/2024 17:47:07\n"
     ]
    }
   ],
   "source": [
    "run_downloads()"
   ]
  },
  {
   "cell_type": "code",
   "execution_count": null,
   "id": "d4f1beeb-54a8-41c1-81c5-59ce057ec19e",
   "metadata": {},
   "outputs": [],
   "source": []
  }
 ],
 "metadata": {
  "kernelspec": {
   "display_name": "Python 3 (ipykernel)",
   "language": "python",
   "name": "python3"
  },
  "language_info": {
   "codemirror_mode": {
    "name": "ipython",
    "version": 3
   },
   "file_extension": ".py",
   "mimetype": "text/x-python",
   "name": "python",
   "nbconvert_exporter": "python",
   "pygments_lexer": "ipython3",
   "version": "3.12.3"
  }
 },
 "nbformat": 4,
 "nbformat_minor": 5
}

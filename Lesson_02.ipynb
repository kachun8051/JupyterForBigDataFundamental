{
 "cells": [
  {
   "cell_type": "markdown",
   "id": "0edc4dbd",
   "metadata": {},
   "source": [
    "<h1>正則表達式#1 - Regular Expression</h1>"
   ]
  },
  {
   "cell_type": "markdown",
   "id": "51a6d793",
   "metadata": {},
   "source": [
    "<h2>\\d = 0-9</h2>"
   ]
  },
  {
   "cell_type": "code",
   "execution_count": 2,
   "id": "06dfd595",
   "metadata": {},
   "outputs": [
    {
     "name": "stdout",
     "output_type": "stream",
     "text": [
      "['12345', '41521', '778963', '85214']\n"
     ]
    }
   ],
   "source": [
    "import re\n",
    "text = \"Tims's phone numbers are 12345-41521 and 778963-85214\"\n",
    "answer = re.findall(r'\\d+', text)\n",
    "if answer:\n",
    "    print(answer)"
   ]
  },
  {
   "cell_type": "markdown",
   "id": "7dc628fd",
   "metadata": {},
   "source": [
    "<h2>\\D = 非 0-9</h2>"
   ]
  },
  {
   "cell_type": "code",
   "execution_count": 4,
   "id": "dfee8af7",
   "metadata": {},
   "outputs": [
    {
     "name": "stdout",
     "output_type": "stream",
     "text": [
      "['T', 'i', 'm', 's', \"'\", 's', ' ', 'p', 'h', 'o', 'n', 'e', ' ', 'n', 'u', 'm', 'b', 'e', 'r', 's', ' ', 'a', 'r', 'e', ' ', '-', ' ', 'a', 'n', 'd', ' ', '-']\n"
     ]
    }
   ],
   "source": [
    "import re\n",
    "text = \"Tims's phone numbers are 12345-41521 and 778963-85214\"\n",
    "answer = re.findall(r'\\D', text)\n",
    "if answer:\n",
    "    print(answer)"
   ]
  },
  {
   "cell_type": "markdown",
   "id": "307d1610",
   "metadata": {},
   "source": [
    "<h2>\\s = 空白字元</h2>"
   ]
  },
  {
   "cell_type": "code",
   "execution_count": 5,
   "id": "7c2c61ae",
   "metadata": {},
   "outputs": [
    {
     "name": "stdout",
     "output_type": "stream",
     "text": [
      "[' ', ' ', ' ', ' ', ' ', ' ']\n"
     ]
    }
   ],
   "source": [
    "import re\n",
    "text = \"Tims's phone numbers are 12345-41521 and 778963-85214\"\n",
    "answer = re.findall(r'\\s', text)\n",
    "if answer:\n",
    "    print(answer)"
   ]
  },
  {
   "cell_type": "markdown",
   "id": "d1bbf6fb",
   "metadata": {},
   "source": [
    "<h2>\\S = 非空白字元</h2>"
   ]
  },
  {
   "cell_type": "markdown",
   "id": "c6bee6de",
   "metadata": {},
   "source": [
    "import re\n",
    "text = \"Tims's phone numbers are 12345-41521 and 778963-85214\"\n",
    "answer = re.findall(r'\\S', text)\n",
    "if answer:\n",
    "    print(answer)"
   ]
  },
  {
   "cell_type": "markdown",
   "id": "49426ea4",
   "metadata": {},
   "source": [
    "<h2>\\w=a-zA-Z0-9</h2>"
   ]
  },
  {
   "cell_type": "code",
   "execution_count": 7,
   "id": "3b0a7b9a",
   "metadata": {},
   "outputs": [
    {
     "name": "stdout",
     "output_type": "stream",
     "text": [
      "['T', 'i', 'm', 's', 's', 'p', 'h', 'o', 'n', 'e', 'n', 'u', 'm', 'b', 'e', 'r', 's', 'a', 'r', 'e', '1', '2', '3', '4', '5', '4', '1', '5', '2', '1', 'a', 'n', 'd', '7', '7', '8', '9', '6', '3', '8', '5', '2', '1', '4']\n"
     ]
    }
   ],
   "source": [
    "import re\n",
    "text = \"Tims's phone numbers are 12345-41521 and 778963-85214\"\n",
    "answer = re.findall(r'\\w', text)\n",
    "if answer:\n",
    "    print(answer)"
   ]
  },
  {
   "cell_type": "markdown",
   "id": "f83eade9",
   "metadata": {},
   "source": [
    "<h2>\\W = 非 a-zA-Z0-9</h2>"
   ]
  },
  {
   "cell_type": "code",
   "execution_count": 1,
   "id": "f8acd328",
   "metadata": {},
   "outputs": [
    {
     "name": "stdout",
     "output_type": "stream",
     "text": [
      "[\"'\", ' ', ' ', ' ', ' ', '-', ' ', ' ', '-']\n"
     ]
    }
   ],
   "source": [
    "import re\n",
    "text = \"Tims's phone numbers are 12345-41521 and 778963-85214\"\n",
    "answer = re.findall(r'\\W', text)\n",
    "if answer:\n",
    "    print(answer)"
   ]
  },
  {
   "cell_type": "markdown",
   "id": "cc0cb6c2",
   "metadata": {},
   "source": [
    "<h2>取出三位數字</h2>"
   ]
  },
  {
   "cell_type": "code",
   "execution_count": 3,
   "id": "2e1c631d",
   "metadata": {},
   "outputs": [
    {
     "name": "stdout",
     "output_type": "stream",
     "text": [
      "['123', '567', '123', '415', '778', '963', '852']\n"
     ]
    }
   ],
   "source": [
    "import re\n",
    "text = \"Tims's phone numbers are 1234-5678, 12345-41521 and 778963-85214\"\n",
    "answer = re.findall(r'\\d{3}', text)\n",
    "if answer:\n",
    "    print(answer)"
   ]
  },
  {
   "cell_type": "markdown",
   "id": "d85f2e00",
   "metadata": {},
   "source": [
    "<h2>取出一至三位數字</h2>"
   ]
  },
  {
   "cell_type": "code",
   "execution_count": 5,
   "id": "7d12c7c1",
   "metadata": {},
   "outputs": [
    {
     "name": "stdout",
     "output_type": "stream",
     "text": [
      "['123', '4', '567', '8', '123', '45', '415', '21', '778', '963', '852', '14']\n"
     ]
    }
   ],
   "source": [
    "import re\n",
    "text = \"Tims's phone numbers are 1234-5678, 12345-41521 and 778963-85214\"\n",
    "answer = re.findall(r'\\d{1,3}', text)\n",
    "if answer:\n",
    "    print(answer)"
   ]
  },
  {
   "cell_type": "markdown",
   "id": "b0de8f10",
   "metadata": {},
   "source": [
    "<h2>取出二至三位數字</h2>"
   ]
  },
  {
   "cell_type": "code",
   "execution_count": 7,
   "id": "2c18cb97",
   "metadata": {},
   "outputs": [
    {
     "name": "stdout",
     "output_type": "stream",
     "text": [
      "['123', '567', '123', '45', '415', '21', '778', '963', '852', '14']\n"
     ]
    }
   ],
   "source": [
    "import re\n",
    "text = \"Tims's phone numbers are 1234-5678, 12345-41521 and 778963-85214\"\n",
    "answer = re.findall(r'\\d{2,3}', text)\n",
    "if answer:\n",
    "    print(answer)"
   ]
  },
  {
   "cell_type": "markdown",
   "id": "027e806f",
   "metadata": {},
   "source": [
    "<h2>取出四位數字</h2>"
   ]
  },
  {
   "cell_type": "code",
   "execution_count": 8,
   "id": "44fe7a71",
   "metadata": {},
   "outputs": [
    {
     "name": "stdout",
     "output_type": "stream",
     "text": [
      "['1234', '5678', '1234', '4152', '7789', '8521']\n"
     ]
    }
   ],
   "source": [
    "import re\n",
    "text = \"Tims's phone numbers are 1234-5678, 12345-41521 and 778963-85214\"\n",
    "answer = re.findall(r'\\d{4}', text)\n",
    "if answer:\n",
    "    print(answer)"
   ]
  },
  {
   "cell_type": "markdown",
   "id": "95d7d01b",
   "metadata": {},
   "source": [
    "<h2>取出六位數字</h2>"
   ]
  },
  {
   "cell_type": "code",
   "execution_count": 9,
   "id": "06d4dc9c",
   "metadata": {},
   "outputs": [
    {
     "name": "stdout",
     "output_type": "stream",
     "text": [
      "['778963']\n"
     ]
    }
   ],
   "source": [
    "import re\n",
    "text = \"Tims's phone numbers are 1234-5678, 12345-41521 and 778963-85214\"\n",
    "answer = re.findall(r'\\d{6}', text)\n",
    "if answer:\n",
    "    print(answer)"
   ]
  },
  {
   "cell_type": "markdown",
   "id": "dca7dc8f",
   "metadata": {},
   "source": [
    "<h2>取出前邊只有三個字母，後邊只有一個y字，中間係任何字母</h2>"
   ]
  },
  {
   "cell_type": "code",
   "execution_count": 10,
   "id": "4bfe9442",
   "metadata": {},
   "outputs": [
    {
     "name": "stdout",
     "output_type": "stream",
     "text": [
      "['Billy', 'Cindy', 'Candy', 'Daisy', 'Molly']\n"
     ]
    }
   ],
   "source": [
    "import re\n",
    "text = \"Ann Anna Bob Billy Cindy Candy David Dave Daisy Molly\"\n",
    "answer = re.findall(r'[a-zA-Z]{3}\\w*y', text)\n",
    "if answer:\n",
    "    print(answer)"
   ]
  },
  {
   "cell_type": "markdown",
   "id": "439560dd",
   "metadata": {},
   "source": [
    "<h2>取出前邊只有三個字母，後邊只有一個y字</h2>"
   ]
  },
  {
   "cell_type": "code",
   "execution_count": 12,
   "id": "ad904f80",
   "metadata": {},
   "outputs": [
    {
     "name": "stdout",
     "output_type": "stream",
     "text": [
      "['illy', 'indy', 'andy', 'aisy', 'olly']\n"
     ]
    }
   ],
   "source": [
    "import re\n",
    "text = \"Ann Anna Bob Billy Cindy Candy David Dave Daisy Molly\"\n",
    "answer = re.findall(r'[a-zA-Z]{3}y', text)\n",
    "if answer:\n",
    "    print(answer)"
   ]
  },
  {
   "cell_type": "code",
   "execution_count": 13,
   "id": "b7e14946",
   "metadata": {},
   "outputs": [
    {
     "name": "stdout",
     "output_type": "stream",
     "text": [
      "['hony', 'illy', 'indy', 'andy', 'aisy', 'Lily', 'olly', 'enry', 'sley', 'gory']\n"
     ]
    }
   ],
   "source": [
    "import re\n",
    "text = \"Ann Anna Anthony Bob Billy Cindy Candy David Dave Daisy Lily Molly Henry Wesley Zachgory\"\n",
    "answer = re.findall(r'[a-zA-Z]{3}y', text)\n",
    "if answer:\n",
    "    print(answer)"
   ]
  },
  {
   "cell_type": "code",
   "execution_count": 14,
   "id": "6aca95ce",
   "metadata": {},
   "outputs": [
    {
     "name": "stdout",
     "output_type": "stream",
     "text": [
      "['Cindy', 'Candy']\n"
     ]
    }
   ],
   "source": [
    "import re\n",
    "text = \"Ann Anna Anthony Bob Billy Cindy Candy David Dave Daisy Lily Molly Henry Wesley Zachgory\"\n",
    "answer = re.findall(r'C[a-z]{3}y', text)\n",
    "if answer:\n",
    "    print(answer)"
   ]
  },
  {
   "cell_type": "code",
   "execution_count": 15,
   "id": "80459223",
   "metadata": {},
   "outputs": [
    {
     "name": "stdout",
     "output_type": "stream",
     "text": [
      "['2020', '2021', '2022']\n"
     ]
    }
   ],
   "source": [
    "import re\n",
    "text = \"Year 2020, 2021 and 2022\"\n",
    "answer = re.findall(r'\\d+', text)\n",
    "if answer:\n",
    "    print(answer)"
   ]
  },
  {
   "cell_type": "markdown",
   "id": "ecf2ffe3",
   "metadata": {},
   "source": [
    "<h2>\\b - Whole word only</h2>"
   ]
  },
  {
   "cell_type": "code",
   "execution_count": 18,
   "id": "b0143093",
   "metadata": {},
   "outputs": [
    {
     "name": "stdout",
     "output_type": "stream",
     "text": [
      "['T', 'EXAMPLE', 'S', 'UPPER']\n"
     ]
    }
   ],
   "source": [
    "import re\n",
    "text = \"This is an EXAMPLE of a Sentence with UPPER case words.\"\n",
    "answer = re.findall(r'[A-Z]+', text)\n",
    "if answer:\n",
    "    print(answer)"
   ]
  },
  {
   "cell_type": "code",
   "execution_count": 19,
   "id": "a1471caf",
   "metadata": {},
   "outputs": [
    {
     "name": "stdout",
     "output_type": "stream",
     "text": [
      "['EXAMPLE', 'UPPER']\n"
     ]
    }
   ],
   "source": [
    "import re\n",
    "text = \"This is an EXAMPLE of a Sentence with UPPER case words.\"\n",
    "# \\b means the whole word is Capital letter\n",
    "answer = re.findall(r'[A-Z]+\\b', text)\n",
    "if answer:\n",
    "    print(answer)"
   ]
  },
  {
   "cell_type": "code",
   "execution_count": 20,
   "id": "cab46987",
   "metadata": {},
   "outputs": [
    {
     "name": "stdout",
     "output_type": "stream",
     "text": [
      "['info@examoke.com', 'support@example.org']\n"
     ]
    }
   ],
   "source": [
    "import re\n",
    "text = \"Please contact us at info@examoke.com or support@example.org\"\n",
    "answer = re.findall(r'[a-z]{1,}@[a-z]{2,}.[a-z]{2,}', text)\n",
    "if answer:\n",
    "    print(answer)"
   ]
  }
 ],
 "metadata": {
  "kernelspec": {
   "display_name": "Python 3 (ipykernel)",
   "language": "python",
   "name": "python3"
  },
  "language_info": {
   "codemirror_mode": {
    "name": "ipython",
    "version": 3
   },
   "file_extension": ".py",
   "mimetype": "text/x-python",
   "name": "python",
   "nbconvert_exporter": "python",
   "pygments_lexer": "ipython3",
   "version": "3.12.3"
  }
 },
 "nbformat": 4,
 "nbformat_minor": 5
}

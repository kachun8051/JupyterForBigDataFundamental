{
 "cells": [
  {
   "cell_type": "code",
   "execution_count": 3,
   "id": "33b40152-f0d7-487c-b22a-85b79210b9c5",
   "metadata": {},
   "outputs": [
    {
     "name": "stdout",
     "output_type": "stream",
     "text": [
      "['fox', 'fox', 'fox']\n",
      "['The', 'quick', 'brown', 'fox', 'jumps', 'foxs', 'over', 'xfox', 'the', 'lazy', 'dog']\n"
     ]
    }
   ],
   "source": [
    "import re\n",
    "\n",
    "text = \"The quick brown fox jumps over the lazy dog.\"\n",
    "\n",
    "answer = re.findall(r'\\bfox\\b', text)\n",
    "print(answer)  \n"
   ]
  },
  {
   "cell_type": "markdown",
   "id": "fddd78c9-993b-4956-ad17-2b58fca39cf7",
   "metadata": {},
   "source": [
    "# 找出所有數字"
   ]
  },
  {
   "cell_type": "code",
   "execution_count": 1,
   "id": "2c3151f4-3622-4775-8ca4-d25cad4be45a",
   "metadata": {},
   "outputs": [
    {
     "name": "stdout",
     "output_type": "stream",
     "text": [
      "['2020', '2021', '2022']\n"
     ]
    }
   ],
   "source": [
    "import re\n",
    "\n",
    "text = \"Year 2020, 2021, and 2022\"\n"
   ]
  },
  {
   "cell_type": "markdown",
   "id": "2ac9fc52-04ee-4b55-97fb-c73c741ccdc2",
   "metadata": {},
   "source": [
    "# 提取電子郵件地址"
   ]
  },
  {
   "cell_type": "code",
   "execution_count": 6,
   "id": "bcdb5b0f-02c6-4546-831d-7e2722ff08ad",
   "metadata": {},
   "outputs": [
    {
     "name": "stdout",
     "output_type": "stream",
     "text": [
      "['info@example.com', 'support@example.org']\n"
     ]
    }
   ],
   "source": [
    "import re\n",
    "\n",
    "text = \"Please contact us at info@example.com or support@example.org\"\n",
    "emails = re.findall(r'\\b[A-Za-z0-9._%+-]+@[A-Za-z0-9.-]+\\.[A-Za-z]{2,}\\b', text)\n",
    "print(emails)\n"
   ]
  },
  {
   "cell_type": "markdown",
   "id": "de0ff228-0711-45cc-992e-33fea99f7bb5",
   "metadata": {},
   "source": [
    "# 查找所有大寫單詞"
   ]
  },
  {
   "cell_type": "code",
   "execution_count": 7,
   "id": "41ae3765-641f-4a27-8636-087719d03952",
   "metadata": {},
   "outputs": [
    {
     "name": "stdout",
     "output_type": "stream",
     "text": [
      "['EXAMPLE', 'UPPER']\n"
     ]
    }
   ],
   "source": [
    "import re\n",
    "\n",
    "text = \"This is an EXAMPLE of a sentence with UPPER case words.\"\n",
    "\n"
   ]
  },
  {
   "cell_type": "markdown",
   "id": "5f40ae2c-ed54-46e6-906e-1fd91d4d2dee",
   "metadata": {},
   "source": [
    "# 捕獲日期格式"
   ]
  },
  {
   "cell_type": "code",
   "execution_count": 8,
   "id": "3fc8d275-6e69-464f-b9b5-d6c9670c4ff1",
   "metadata": {},
   "outputs": [
    {
     "name": "stdout",
     "output_type": "stream",
     "text": [
      "['23/10/2022', '01/01/2023']\n"
     ]
    }
   ],
   "source": [
    "import re\n",
    "\n",
    "text = \"Important dates are 23/10/2022 and 01/01/2023.\"\n",
    "\n"
   ]
  },
  {
   "cell_type": "markdown",
   "id": "45d20a6f-69c9-4921-943a-04a299e7c4f7",
   "metadata": {},
   "source": [
    "# 從字符串中提取所有單詞"
   ]
  },
  {
   "cell_type": "code",
   "execution_count": 9,
   "id": "a6a06b0b-a493-474c-ba42-d062c3f4680f",
   "metadata": {},
   "outputs": [
    {
     "name": "stdout",
     "output_type": "stream",
     "text": [
      "['Hello', 'how', 'are', 'you']\n"
     ]
    }
   ],
   "source": [
    "import re\n",
    "\n",
    "text = \"Hello, how are you?\"\n",
    "\n"
   ]
  },
  {
   "cell_type": "markdown",
   "id": "31d7b5f8-459b-49c5-9e64-2871a4272590",
   "metadata": {},
   "source": [
    "# 提取帶括號的信息"
   ]
  },
  {
   "cell_type": "code",
   "execution_count": 11,
   "id": "aa2be707-e06f-4ba9-8f4f-89f288afb2c5",
   "metadata": {},
   "outputs": [
    {
     "name": "stdout",
     "output_type": "stream",
     "text": [
      "['success', 'failure', 'pending']\n"
     ]
    }
   ],
   "source": [
    "import re\n",
    "\n",
    "text = \"Results: (success), (failure), (pending)\"\n",
    "\n"
   ]
  },
  {
   "cell_type": "markdown",
   "id": "e92b7184-0ddd-440a-94e5-40d679d2dfec",
   "metadata": {},
   "source": [
    "# 提取帶有條件的字符串"
   ]
  },
  {
   "cell_type": "code",
   "execution_count": 12,
   "id": "9590bcdf-dba5-4676-b206-6beb19731de8",
   "metadata": {},
   "outputs": [
    {
     "name": "stdout",
     "output_type": "stream",
     "text": [
      "[('apple', '10'), ('banana', '20'), ('cherry', '30')]\n"
     ]
    }
   ],
   "source": [
    "import re\n",
    "\n",
    "text = \"Items: apple-10, banana-20, cherry-30\"\n",
    "\n"
   ]
  },
  {
   "cell_type": "markdown",
   "id": "cf3ff17c-0bb1-4ae5-b07c-c7692f476283",
   "metadata": {},
   "source": [
    "# 匹配並提取嵌套的引號内文"
   ]
  },
  {
   "cell_type": "code",
   "execution_count": 13,
   "id": "c0526f30-9aff-4611-924c-eb8e0eb5f979",
   "metadata": {},
   "outputs": [
    {
     "name": "stdout",
     "output_type": "stream",
     "text": [
      "['She said, ', 's ready.']\n"
     ]
    }
   ],
   "source": [
    "import re\n",
    "\n",
    "text = 'He said, \"She said, \\'Indeed, it\\'s ready.\\' very quietly.\"'\n",
    "\n"
   ]
  },
  {
   "cell_type": "markdown",
   "id": "48bc5082-829c-4013-8323-ea0cc1212005",
   "metadata": {},
   "source": [
    "# 提取特定格式的電話號碼"
   ]
  },
  {
   "cell_type": "code",
   "execution_count": 14,
   "id": "68679b19-c81e-49d0-b3b8-227c7cac6d8b",
   "metadata": {},
   "outputs": [
    {
     "name": "stdout",
     "output_type": "stream",
     "text": [
      "['123-456-7890', '987.654.3210', '(123) 456-7890']\n"
     ]
    }
   ],
   "source": [
    "import re\n",
    "\n",
    "text = \"Contact: 123-456-7890, 987.654.3210, (123) 456-7890\"\n",
    "\n"
   ]
  },
  {
   "cell_type": "markdown",
   "id": "e6ca6109-ecdd-410b-9f93-041b2251ba9b",
   "metadata": {},
   "source": [
    "# 從HTML中提取特定屬性"
   ]
  },
  {
   "cell_type": "code",
   "execution_count": 15,
   "id": "f78c651b-31c4-467d-9ee3-e4dcfca2cf69",
   "metadata": {},
   "outputs": [
    {
     "name": "stdout",
     "output_type": "stream",
     "text": [
      "['image1.png', 'image2.png']\n"
     ]
    }
   ],
   "source": [
    "import re\n",
    "\n",
    "html = '<img src=\"image1.png\" alt=\"An image\" /><img src=\"image2.png\" alt=\"Another image\" />'\n",
    "\n"
   ]
  },
  {
   "cell_type": "code",
   "execution_count": null,
   "id": "66255fdd-d9f1-494d-9b50-b888a258b3b0",
   "metadata": {},
   "outputs": [],
   "source": []
  }
 ],
 "metadata": {
  "kernelspec": {
   "display_name": "Python 3 (ipykernel)",
   "language": "python",
   "name": "python3"
  },
  "language_info": {
   "codemirror_mode": {
    "name": "ipython",
    "version": 3
   },
   "file_extension": ".py",
   "mimetype": "text/x-python",
   "name": "python",
   "nbconvert_exporter": "python",
   "pygments_lexer": "ipython3",
   "version": "3.12.4"
  }
 },
 "nbformat": 4,
 "nbformat_minor": 5
}

{
 "cells": [
  {
   "cell_type": "code",
   "execution_count": 1,
   "id": "ddcb6266",
   "metadata": {},
   "outputs": [
    {
     "name": "stderr",
     "output_type": "stream",
     "text": [
      "Config dir: C:\\Users\\user\\.jupyter\n",
      "\n",
      "Config dir: C:\\ProgramData\\anaconda3\\etc\\jupyter\n",
      "    aext_assistant enabled\n",
      "    - Validating aext_assistant...\n",
      "Package aext_assistant took 0.6457s to import\n",
      "      aext_assistant 0.4.0 ok\n",
      "    aext_core enabled\n",
      "    - Validating aext_core...\n",
      "Package aext_core took 0.0062s to import\n",
      "      aext_core 0.4.0 ok\n",
      "    jupyter_lsp enabled\n",
      "    - Validating jupyter_lsp...\n",
      "Package jupyter_lsp took 0.0496s to import\n",
      "A `_jupyter_server_extension_points` function was not found in jupyter_lsp. Instead, a `_jupyter_server_extension_paths` function was found and will be used for now. This function name will be deprecated in future releases of Jupyter Server.\n",
      "      jupyter_lsp 2.2.0 ok\n",
      "    jupyter_server_fileid enabled\n",
      "    - Validating jupyter_server_fileid...\n",
      "Package jupyter_server_fileid took 0.0112s to import\n",
      "      jupyter_server_fileid 0.9.0 ok\n",
      "    jupyter_server_terminals enabled\n",
      "    - Validating jupyter_server_terminals...\n",
      "Package jupyter_server_terminals took 0.0336s to import\n",
      "      jupyter_server_terminals 0.4.4 ok\n",
      "    jupyter_server_ydoc enabled\n",
      "    - Validating jupyter_server_ydoc...\n",
      "Package jupyter_server_ydoc took 0.1802s to import\n",
      "      jupyter_server_ydoc 0.8.0 ok\n",
      "    jupyterlab enabled\n",
      "    - Validating jupyterlab...\n",
      "Package jupyterlab took 0.1450s to import\n",
      "      jupyterlab 4.2.4 ok\n",
      "    nbclassic enabled\n",
      "    - Validating nbclassic...\n",
      "Package nbclassic took 0.0030s to import\n",
      "A `_jupyter_server_extension_points` function was not found in nbclassic. Instead, a `_jupyter_server_extension_paths` function was found and will be used for now. This function name will be deprecated in future releases of Jupyter Server.\n",
      "      nbclassic 1.0.0 ok\n",
      "    notebook_shim enabled\n",
      "    - Validating notebook_shim...\n",
      "Package notebook_shim took 0.0000s to import\n",
      "A `_jupyter_server_extension_points` function was not found in notebook_shim. Instead, a `_jupyter_server_extension_paths` function was found and will be used for now. This function name will be deprecated in future releases of Jupyter Server.\n",
      "      notebook_shim  ok\n",
      "    panel.io.jupyter_server_extension enabled\n",
      "    - Validating panel.io.jupyter_server_extension...\n",
      "Package panel.io.jupyter_server_extension took 1.6659s to import\n",
      "      panel.io.jupyter_server_extension  ok\n",
      "\n",
      "Config dir: C:\\ProgramData\\jupyter\n",
      "\n"
     ]
    }
   ],
   "source": [
    "!jupyter server extension list"
   ]
  },
  {
   "cell_type": "code",
   "execution_count": null,
   "id": "8688a944",
   "metadata": {},
   "outputs": [],
   "source": []
  }
 ],
 "metadata": {
  "kernelspec": {
   "display_name": "Python 3 (ipykernel)",
   "language": "python",
   "name": "python3"
  },
  "language_info": {
   "codemirror_mode": {
    "name": "ipython",
    "version": 3
   },
   "file_extension": ".py",
   "mimetype": "text/x-python",
   "name": "python",
   "nbconvert_exporter": "python",
   "pygments_lexer": "ipython3",
   "version": "3.11.5"
  }
 },
 "nbformat": 4,
 "nbformat_minor": 5
}

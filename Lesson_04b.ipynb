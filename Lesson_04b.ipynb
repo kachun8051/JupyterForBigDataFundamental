{
 "cells": [
  {
   "cell_type": "markdown",
   "id": "9a893b52-4386-4e9c-9e05-ed6149f50e51",
   "metadata": {},
   "source": [
    "<h2>Ensure the file ex3.csv and ex4.csv exist.</h2>"
   ]
  },
  {
   "cell_type": "code",
   "execution_count": 3,
   "id": "412ee893-1406-42d4-aab6-7925db05e83d",
   "metadata": {},
   "outputs": [
    {
     "name": "stdout",
     "output_type": "stream",
     "text": [
      "Is ex3.csv exist?  True\n",
      "Is ex4.csv exist?  True\n"
     ]
    }
   ],
   "source": [
    "import os.path\n",
    "# Ensure the file exist\n",
    "print(\"Is ex3.csv exist? \", os.path.isfile('.\\\\csv04\\\\ex3.csv'))\n",
    "print(\"Is ex4.csv exist? \", os.path.isfile('.\\\\csv04\\\\ex4.csv'))"
   ]
  },
  {
   "cell_type": "markdown",
   "id": "b450afc4-5f09-4fec-a9a4-7f5214853f10",
   "metadata": {},
   "source": [
    "<h2>Row and column manipulate</h2>"
   ]
  },
  {
   "cell_type": "code",
   "execution_count": 2,
   "id": "2b32af7c-2629-4e0d-bc71-2ee372e60ef8",
   "metadata": {},
   "outputs": [
    {
     "name": "stdout",
     "output_type": "stream",
     "text": [
      "輸出ex3.csv完整資訊\n",
      "                                           #hey!\n",
      "a                           b   c   d    message\n",
      "#just wanted to make things NaN NaN NaN      NaN\n",
      "#who are you                NaN NaN NaN      NaN\n",
      "1                           2   3   4      hello\n",
      "5                           6   7   8      world\n",
      "9                           10  11  12       foo\n",
      "---\n",
      "輸出 df2 完整資訊 (skip rows)\n",
      "   a   b   c   d message\n",
      "0  1   2   3   4   hello\n",
      "1  5   6   7   8   world\n",
      "2  9  10  11  12     foo\n",
      "---\n",
      "輸出 df3 完整資訊 (skip rows and columns)\n",
      "    b   c message\n",
      "0   2   3   hello\n",
      "1   6   7   world\n",
      "2  10  11     foo\n",
      "---\n"
     ]
    }
   ],
   "source": [
    "import pandas as pd\n",
    "df1=pd.read_csv('.//csv04//ex3.csv')\n",
    "print('輸出ex3.csv完整資訊')\n",
    "print(df1)\n",
    "print('---')\n",
    "# skip certain rows\n",
    "df2=pd.read_csv('.//csv04//ex3.csv', skiprows=[0,2,3])\n",
    "print('輸出 df2 完整資訊 (skip rows)')\n",
    "print(df2)\n",
    "print('---')\n",
    "# not show certain column(s)\n",
    "df3=pd.read_csv('.//csv04//ex3.csv', skiprows=[0,2,3], usecols=lambda cols: cols not in ['a','d'])\n",
    "print('輸出 df3 完整資訊 (skip rows and columns)')\n",
    "print(df3)\n",
    "print('---')"
   ]
  },
  {
   "cell_type": "code",
   "execution_count": 5,
   "id": "9412c4af-1884-497d-8a3e-396dbb2f8777",
   "metadata": {},
   "outputs": [
    {
     "name": "stdout",
     "output_type": "stream",
     "text": [
      "輸出ex4.csv完整資訊\n",
      "  something  a   b     c   d message\n",
      "0       one  1   2   3.0   4     NaN\n",
      "1       two  5   6   NaN   8   world\n",
      "2     three  9  10  11.0  12    good\n",
      "3      four  3   4   5.0   6   tryit\n",
      "---\n",
      "輸出 df2 部分資訊\n",
      "  something  a  b    c  d message\n",
      "0       one  1  2  3.0  4     NaN\n",
      "1       two  5  6  NaN  8   world\n",
      "---\n"
     ]
    }
   ],
   "source": [
    "import pandas as pd\n",
    "df1=pd.read_csv('.//csv04//ex4.csv')\n",
    "print('輸出ex4.csv完整資訊')\n",
    "# NaN 代表遺失值，代表沒有資料\n",
    "print(df1)\n",
    "print('---')\n",
    "# show n rows only\n",
    "df2=pd.read_csv('.//csv04//ex4.csv',nrows=2)\n",
    "print('輸出 df2 部分資訊')\n",
    "print(df2)\n",
    "print('---')"
   ]
  },
  {
   "cell_type": "markdown",
   "id": "abc0e6ba-d889-4bbe-95e9-ce5b54b3558f",
   "metadata": {},
   "source": [
    "<h2>Change NA values</h2>"
   ]
  },
  {
   "cell_type": "code",
   "execution_count": 7,
   "id": "e0244b1e-5752-493e-a68e-748b9cc9aa0a",
   "metadata": {},
   "outputs": [
    {
     "name": "stdout",
     "output_type": "stream",
     "text": [
      "輸出ex4.csv完整資訊\n",
      "  something  a   b     c   d message\n",
      "0       one  1   2   3.0   4     NaN\n",
      "1       two  5   6   NaN   8   world\n",
      "2     three  9  10  11.0  12    good\n",
      "3      four  3   4   5.0   6   tryit\n",
      "--------------------------------------------------\n",
      "輸出ex4.csv完整資訊\n",
      "  something  a   b     c   d message\n",
      "0       one  1   2   3.0   4     NaN\n",
      "1       NaN  5   6   NaN   8   world\n",
      "2     three  9  10  11.0  12     NaN\n",
      "3      four  3   4   5.0   6   tryit\n",
      "--------------------------------------------------\n"
     ]
    }
   ],
   "source": [
    "import pandas as pd\n",
    "df1=pd.read_csv('.//csv04//ex4.csv')\n",
    "print('輸出ex4.csv完整資訊')\n",
    "# NaN 代表遺失值，代表沒有資料\n",
    "print(df1)\n",
    "print('-'*50)\n",
    "# na_values assign nan values\n",
    "# 順便 'NA' -> NaN\n",
    "criteria = {'message':['good','NA','na', 'something':['two','NA','na']}\n",
    "df2=pd.read_csv('.//csv04//ex4.csv', na_values=criteria)\n",
    "print('輸出ex4.csv完整資訊')\n",
    "# NaN 代表遺失值，代表沒有資料\n",
    "print(df2)\n",
    "print('-'*50)"
   ]
  },
  {
   "cell_type": "code",
   "execution_count": null,
   "id": "3aa9e4ec-ff76-4cc4-954d-e6c7cf506fcf",
   "metadata": {},
   "outputs": [],
   "source": []
  }
 ],
 "metadata": {
  "kernelspec": {
   "display_name": "Python 3 (ipykernel)",
   "language": "python",
   "name": "python3"
  },
  "language_info": {
   "codemirror_mode": {
    "name": "ipython",
    "version": 3
   },
   "file_extension": ".py",
   "mimetype": "text/x-python",
   "name": "python",
   "nbconvert_exporter": "python",
   "pygments_lexer": "ipython3",
   "version": "3.12.3"
  }
 },
 "nbformat": 4,
 "nbformat_minor": 5
}

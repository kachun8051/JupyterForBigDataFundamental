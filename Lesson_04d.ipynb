{
 "cells": [
  {
   "cell_type": "markdown",
   "id": "f21aeb70-a659-4b59-b42d-115642cf59f4",
   "metadata": {},
   "source": [
    "<h2>Save dataframe to html file</h2>"
   ]
  },
  {
   "cell_type": "code",
   "execution_count": 3,
   "id": "271c4218-4f03-4b8d-b4d4-b16491079b14",
   "metadata": {},
   "outputs": [
    {
     "name": "stdout",
     "output_type": "stream",
     "text": [
      "     XGroup  XNumber\n",
      "0    Python       59\n",
      "1    Django        9\n",
      "2    Sqlite       19\n",
      "3     Numpy       14\n",
      "4  Security        6\n",
      "5    Pandas       77\n"
     ]
    }
   ],
   "source": [
    "import pandas as pd\n",
    "groups=['Python','Django','Sqlite','Numpy','Security','Pandas']\n",
    "numbers=[59,9,19,14,6,77]\n",
    "dict_2 = {'XGroup': groups, 'XNumber': numbers}\n",
    "df_2 = pd.DataFrame(dict_2, index=None, columns=None)\n",
    "print(df_2)\n",
    "df_2.to_html('.\\\\output04\\\\myPython.html')"
   ]
  },
  {
   "cell_type": "markdown",
   "id": "0971928d-4835-488c-bb1d-e171bb773718",
   "metadata": {},
   "source": [
    "<h2>Save dataframe to html file directly</h2>"
   ]
  },
  {
   "cell_type": "code",
   "execution_count": 1,
   "id": "91ad3ceb-503b-472e-9b56-210c74ddb722",
   "metadata": {},
   "outputs": [],
   "source": [
    "import pandas as pd\n",
    "data={\n",
    "    'Name':['金','鍂','鑫','鑫'],\n",
    "    'Age':[28,34,29,42]\n",
    "}\n",
    "df=pd.DataFrame(data)\n",
    "df.to_html('.\\\\output04\\\\myGold.html')"
   ]
  },
  {
   "cell_type": "markdown",
   "id": "ebe66706-8921-4c42-8df4-f0b4a3e07d46",
   "metadata": {},
   "source": [
    "<h2>Save dataframe to UTF-8 encoded html file</h2>"
   ]
  },
  {
   "cell_type": "code",
   "execution_count": 2,
   "id": "806015de-f4a3-428d-ae09-940ba931f26a",
   "metadata": {},
   "outputs": [
    {
     "name": "stdout",
     "output_type": "stream",
     "text": [
      "Save Completed (html).\n"
     ]
    }
   ],
   "source": [
    "import pandas as pd\n",
    "data={\n",
    "    'Name':['金','鍂','鑫','鑫'],\n",
    "    'Age':[28,34,29,42]\n",
    "}\n",
    "df=pd.DataFrame(data)\n",
    "html=df.to_html()\n",
    "with open('.\\\\output04\\\\myGold02.html','w',encoding='utf-8') as file:\n",
    "    file.writelines('<meta charset=\"utf-8\">\\n')\n",
    "    file.write(html)\n",
    "print(\"Save Completed (html).\")"
   ]
  },
  {
   "cell_type": "markdown",
   "id": "22788054-4424-4b35-8455-db9d6076320e",
   "metadata": {},
   "source": [
    "<h2>舊版 Use xlsxwriter engine</h2>"
   ]
  },
  {
   "cell_type": "code",
   "execution_count": 6,
   "id": "78ba3b28-80ed-411b-838d-418f3d1ee276",
   "metadata": {},
   "outputs": [
    {
     "name": "stdout",
     "output_type": "stream",
     "text": [
      "建立起excel物件\n",
      "Close Completed (Excel)!\n"
     ]
    }
   ],
   "source": [
    "#  (舊版)\n",
    "# pip install xlsxwriter in command prompt and \n",
    "# conda install xlsxwriter in anaconda prompt\n",
    "import pandas as pd\n",
    "import numpy as np\n",
    "data={\n",
    "    'Name':['金','鍂','鑫','鑫'],\n",
    "    'Age':[28,34,29,42]\n",
    "}\n",
    "df=pd.DataFrame(data)\n",
    "print('建立起 excel 物件 (xlsxwriter)...')\n",
    "writer=pd.ExcelWriter('.\\\\output04\\\\df001.xlsx', engine='xlsxwriter')\n",
    "df.to_excel(writer, sheet_name='Sheet3')\n",
    "df1=pd.DataFrame(np.arange(9).reshape(3,3),\n",
    "                 index=['a','c','d'],\n",
    "                 columns=['One','Two','Three'])\n",
    "df1.to_excel(writer, sheet_name='哈囉')\n",
    "#writer.save()\n",
    "writer.close()\n",
    "print('Close Completed (Excel)!')"
   ]
  },
  {
   "cell_type": "code",
   "execution_count": 8,
   "id": "7a976c4e-ef75-4e3d-866b-bca504ae8780",
   "metadata": {},
   "outputs": [
    {
     "name": "stdout",
     "output_type": "stream",
     "text": [
      "建立起 excel 物件 (openpyxl)...\n",
      "Complete!!\n"
     ]
    }
   ],
   "source": [
    "#  (新版)\n",
    "# pip install openpyxl in command prompt and \n",
    "# conda install openpyxl in anaconda prompt\n",
    "import pandas as pd\n",
    "import  numpy as np\n",
    "data={\n",
    "    'Name':['金','鍂','鑫','鑫'],\n",
    "    'Age':[28,34,29,42]\n",
    "}\n",
    "df=pd.DataFrame(data)\n",
    "print('建立起 excel 物件 (openpyxl)...')\n",
    "with pd.ExcelWriter('.\\\\output04\\\\df002.xlsx', engine='openpyxl') as writer:\n",
    "    df.to_excel(writer, sheet_name='Sheet3', index=False)\n",
    "\n",
    "    df1 = pd.DataFrame(np.arange(9).reshape(3, 3),\n",
    "                       index=['a', 'c', 'd'],\n",
    "                       columns=['One', 'Two', 'Three'])\n",
    "    df1.to_excel(writer, sheet_name='哈囉')\n",
    "print('Complete!!')"
   ]
  },
  {
   "cell_type": "code",
   "execution_count": null,
   "id": "92190f19-e44c-4111-964e-c07f9299928a",
   "metadata": {},
   "outputs": [],
   "source": []
  }
 ],
 "metadata": {
  "kernelspec": {
   "display_name": "Python 3 (ipykernel)",
   "language": "python",
   "name": "python3"
  },
  "language_info": {
   "codemirror_mode": {
    "name": "ipython",
    "version": 3
   },
   "file_extension": ".py",
   "mimetype": "text/x-python",
   "name": "python",
   "nbconvert_exporter": "python",
   "pygments_lexer": "ipython3",
   "version": "3.12.3"
  }
 },
 "nbformat": 4,
 "nbformat_minor": 5
}

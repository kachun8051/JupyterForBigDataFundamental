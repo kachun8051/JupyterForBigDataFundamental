{
 "cells": [
  {
   "cell_type": "markdown",
   "id": "5dd3b03c-e198-477f-b32a-fb262eeb7cd4",
   "metadata": {},
   "source": [
    "<h2>Ensure the file ex1.csv exist.</h2>"
   ]
  },
  {
   "cell_type": "code",
   "execution_count": 11,
   "id": "d16f863d-a4fc-4b0b-b1c5-9cf56e549976",
   "metadata": {},
   "outputs": [
    {
     "name": "stdout",
     "output_type": "stream",
     "text": [
      "Is exist?  True\n"
     ]
    }
   ],
   "source": [
    "import os.path\n",
    "# Ensure the file exist\n",
    "print(\"Is exist? \", os.path.isfile('.\\\\csv04\\\\ex1.csv'))"
   ]
  },
  {
   "cell_type": "markdown",
   "id": "2bde458e-0a74-4916-809e-ddb60b1b37a2",
   "metadata": {},
   "source": [
    "<h2>Read CSV 1 file</h2>"
   ]
  },
  {
   "cell_type": "code",
   "execution_count": 19,
   "id": "b0fec564-18b1-4194-8fda-349c22073e9a",
   "metadata": {},
   "outputs": [
    {
     "name": "stdout",
     "output_type": "stream",
     "text": [
      "輸出ex1.csv完整資訊\n",
      "   a   b   c   d          message\n",
      "0  1   2   3   4            hello\n",
      "1  5   6   7   8            world\n",
      "2  9  10  11  12  good　　　　　　　　　　　\n",
      "--------------------------------------------------\n",
      "輸出ex1.csv完整資訊 (No Header)\n",
      "   0   1   2   3                4\n",
      "0  a   b   c   d          message\n",
      "1  1   2   3   4            hello\n",
      "2  5   6   7   8            world\n",
      "3  9  10  11  12  good　　　　　　　　　　　\n",
      "--------------------------------------------------\n",
      "輸出ex1.csv完整資訊 (name header)\n",
      "  col#1 col#2 col#3            col#4\n",
      "a     b     c     d          message\n",
      "1     2     3     4            hello\n",
      "5     6     7     8            world\n",
      "9    10    11    12  good　　　　　　　　　　　\n",
      "--------------------------------------------------\n"
     ]
    }
   ],
   "source": [
    "import pandas as pd\n",
    "myPath01 = '.\\\\csv04\\\\ex1.csv'\n",
    "#df1=pd.read_csv('./csv/ex1.csv')\n",
    "df1 = pd.read_csv(myPath01)\n",
    "print('輸出ex1.csv完整資訊')\n",
    "print(df1)\n",
    "print('-'*50)\n",
    "df2=pd.read_csv(myPath01, header=None)\n",
    "print('輸出ex1.csv完整資訊 (No Header)')\n",
    "print(df2)\n",
    "print('-'*50)\n",
    "myHeader = ['col#1','col#2','col#3','col#4']\n",
    "df3=pd.read_csv(myPath01, names=myHeader)\n",
    "print('輸出ex1.csv完整資訊 (name header)')\n",
    "print(df3)\n",
    "print('-'*50)"
   ]
  },
  {
   "cell_type": "markdown",
   "id": "bea39708-e89d-437c-a705-e6b0eac2a1b3",
   "metadata": {},
   "source": [
    "<h2>DataFrame Column Name</h2>"
   ]
  },
  {
   "cell_type": "code",
   "execution_count": 24,
   "id": "a4bcfa52-ac90-43ff-a96f-abb7539c059b",
   "metadata": {},
   "outputs": [
    {
     "name": "stdout",
     "output_type": "stream",
     "text": [
      "輸出ex1.csv names有做調整\n",
      "   a   b   c   d                e\n",
      "0  a   b   c   d          message\n",
      "1  1   2   3   4            hello\n",
      "2  5   6   7   8            world\n",
      "3  9  10  11  12  good　　　　　　　　　　　\n",
      "--------------------------------------------------\n"
     ]
    }
   ],
   "source": [
    "import pandas as pd\n",
    "df1=pd.read_csv('.//csv04//ex1.csv', names=list('abcde'))\n",
    "print('輸出ex1.csv names有做調整')\n",
    "print(df1)\n",
    "print('-'*50)"
   ]
  },
  {
   "cell_type": "markdown",
   "id": "5973124a-767b-4525-a0e7-2964a3707c87",
   "metadata": {},
   "source": [
    "<h2>x for x in [] (Dynamic List)</h2>"
   ]
  },
  {
   "cell_type": "code",
   "execution_count": 28,
   "id": "3e5c4781-a572-4496-9d2e-f122cac46a74",
   "metadata": {},
   "outputs": [
    {
     "name": "stdout",
     "output_type": "stream",
     "text": [
      "['col#1', 'col#2', 'col#3', 'col#4', 'col#5']\n"
     ]
    }
   ],
   "source": [
    "lst3 = [f\"col#{x+1}\" for x in range(5)]\n",
    "print(lst3)"
   ]
  },
  {
   "cell_type": "code",
   "execution_count": 29,
   "id": "b27e0025-2cbc-4eb2-a033-7d340ed4b95d",
   "metadata": {},
   "outputs": [
    {
     "name": "stdout",
     "output_type": "stream",
     "text": [
      "輸出ex1.csv names有做調整\n",
      "                col#1 col#2 col#3 col#4\n",
      "col#5                                  \n",
      "message             a     b     c     d\n",
      "hello               1     2     3     4\n",
      "world               5     6     7     8\n",
      "good　　　　　　　　　　　     9    10    11    12\n",
      "--------------------------------------------------\n"
     ]
    }
   ],
   "source": [
    "import pandas as pd\n",
    "myHeader = list('ABCDE')\n",
    "myHeader2 = ['col#1','col#2','col#3','col#4','col#5'] #list('ABCDE')\n",
    "myHeader3 = [f\"col#{x+1}\" for x in range(5)]\n",
    "df2=pd.read_csv('.//csv04//ex1.csv',names=myHeader3,index_col='col#5')\n",
    "print('輸出ex1.csv names有做調整')\n",
    "print(df2)\n",
    "print('-'*50)"
   ]
  }
 ],
 "metadata": {
  "kernelspec": {
   "display_name": "Python 3 (ipykernel)",
   "language": "python",
   "name": "python3"
  },
  "language_info": {
   "codemirror_mode": {
    "name": "ipython",
    "version": 3
   },
   "file_extension": ".py",
   "mimetype": "text/x-python",
   "name": "python",
   "nbconvert_exporter": "python",
   "pygments_lexer": "ipython3",
   "version": "3.12.3"
  }
 },
 "nbformat": 4,
 "nbformat_minor": 5
}

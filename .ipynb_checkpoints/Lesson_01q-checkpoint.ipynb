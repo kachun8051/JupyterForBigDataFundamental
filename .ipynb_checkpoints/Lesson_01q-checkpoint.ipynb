{
 "cells": [
  {
   "cell_type": "code",
   "execution_count": 40,
   "id": "196253ef-fc41-4895-a834-5ff621d05f22",
   "metadata": {},
   "outputs": [],
   "source": [
    "# Lesson 01 (2024/07/23 Tue)"
   ]
  },
  {
   "cell_type": "markdown",
   "id": "73409a52",
   "metadata": {},
   "source": [
    "#  這是我的第一個 Python 例題"
   ]
  },
  {
   "cell_type": "markdown",
   "id": "f4875702",
   "metadata": {},
   "source": [
    "# 加法"
   ]
  },
  {
   "cell_type": "markdown",
   "id": "16e7c96f",
   "metadata": {},
   "source": [
    "# 減法"
   ]
  },
  {
   "cell_type": "markdown",
   "id": "45022cb5",
   "metadata": {},
   "source": [
    "# 乘法"
   ]
  },
  {
   "cell_type": "markdown",
   "id": "ad5a7f09",
   "metadata": {},
   "source": [
    "# 二次方"
   ]
  },
  {
   "cell_type": "markdown",
   "id": "dbf5878a",
   "metadata": {},
   "source": [
    "# 除法"
   ]
  },
  {
   "cell_type": "markdown",
   "id": "5af58cca",
   "metadata": {},
   "source": [
    "# 餘數值"
   ]
  },
  {
   "cell_type": "markdown",
   "id": "b545f4e8",
   "metadata": {},
   "source": [
    "# 整數乘法 (= int)"
   ]
  },
  {
   "cell_type": "markdown",
   "id": "80033f4b",
   "metadata": {},
   "source": [
    "# 數字 與 文字 結合"
   ]
  },
  {
   "cell_type": "markdown",
   "id": "98dd6350",
   "metadata": {},
   "source": [
    "# 陣列 List"
   ]
  },
  {
   "cell_type": "markdown",
   "id": "cd640021-af0e-4628-ab91-288337771f2c",
   "metadata": {},
   "source": [
    "# Python Demo"
   ]
  },
  {
   "cell_type": "code",
   "execution_count": 1,
   "id": "07d0913f-7c65-44ec-b7f5-57dd850ac86a",
   "metadata": {},
   "outputs": [
    {
     "name": "stdout",
     "output_type": "stream",
     "text": [
      "254 abc\n"
     ]
    }
   ],
   "source": [
    "x = 254\n",
    "y = 'abc'\n",
    "print(f'{x} {y}')"
   ]
  },
  {
   "cell_type": "code",
   "execution_count": 3,
   "id": "867762cc-d2bc-49a8-96c5-a38ec3497d5f",
   "metadata": {},
   "outputs": [
    {
     "name": "stdout",
     "output_type": "stream",
     "text": [
      "<class 'int'> <class 'str'>\n"
     ]
    }
   ],
   "source": [
    "print(f'{type(x)} {type(y)}')"
   ]
  },
  {
   "cell_type": "code",
   "execution_count": 4,
   "id": "dc3714f4-f5d9-40fc-bf76-bd48832cd2b5",
   "metadata": {},
   "outputs": [
    {
     "name": "stdout",
     "output_type": "stream",
     "text": [
      "140704975034712 140704973939184\n"
     ]
    }
   ],
   "source": [
    "print(f'{id(x)} {id(y)}')"
   ]
  },
  {
   "cell_type": "code",
   "execution_count": 5,
   "id": "a92c10b2-c071-43e4-93a7-e1d5b5b83dbd",
   "metadata": {},
   "outputs": [],
   "source": [
    "x += 2"
   ]
  },
  {
   "cell_type": "code",
   "execution_count": 6,
   "id": "c767b602-c2b7-49b6-9b1c-bab68c56c155",
   "metadata": {},
   "outputs": [
    {
     "name": "stdout",
     "output_type": "stream",
     "text": [
      "140704975034776 140704973939184\n"
     ]
    }
   ],
   "source": [
    "print(f'{id(x)} {id(y)}')"
   ]
  },
  {
   "cell_type": "code",
   "execution_count": 11,
   "id": "3b1ad45f-9bff-47fd-b40d-861c8e340760",
   "metadata": {},
   "outputs": [
    {
     "name": "stdin",
     "output_type": "stream",
     "text": [
      "How old are you? 7\n"
     ]
    },
    {
     "name": "stdout",
     "output_type": "stream",
     "text": [
      "You are 21.0.\n"
     ]
    }
   ],
   "source": [
    "my_age = input('How old are you?')\n",
    "if my_age.isnumeric() == True:\n",
    "    print(f'You are {3*float(my_age)}.')"
   ]
  },
  {
   "cell_type": "code",
   "execution_count": 17,
   "id": "0a8769e5-a0eb-4cdb-9473-0af7d087166f",
   "metadata": {},
   "outputs": [
    {
     "name": "stdout",
     "output_type": "stream",
     "text": [
      "6500\n"
     ]
    }
   ],
   "source": [
    "x1 = 6543.5432\n",
    "print(int(round(x1, -2)))"
   ]
  },
  {
   "cell_type": "markdown",
   "id": "06f41737-c6c3-474c-99c4-0c8d446217d1",
   "metadata": {},
   "source": [
    "# Math Ceil and Floor"
   ]
  },
  {
   "cell_type": "code",
   "execution_count": 22,
   "id": "d1cbc816-23ad-4874-9207-03dd9a303a2e",
   "metadata": {},
   "outputs": [],
   "source": [
    "import math\n",
    "# use ceil instead of round(x, -2)\n",
    "def myRoundUp(inpval, digit):\n",
    "    inpval = inpval / (10 ** digit)\n",
    "    val = math.ceil(inpval)\n",
    "    return val * (10 ** digit)\n",
    "# use floor instead of round(x, -3)\n",
    "def myRoundDown(inpval, digit):\n",
    "    inpval = inpval / (10 ** digit)\n",
    "    val = math.floor(inpval)\n",
    "    return val * (10 ** digit)"
   ]
  },
  {
   "cell_type": "code",
   "execution_count": 23,
   "id": "fd7b57f8-fc42-4e16-ad6b-622879fdc4b0",
   "metadata": {},
   "outputs": [
    {
     "name": "stdout",
     "output_type": "stream",
     "text": [
      "6600\n",
      "6000\n"
     ]
    }
   ],
   "source": [
    "print(myRoundUp(6543.5432, 2))\n",
    "print(myRoundDown(6543.5432, 3))"
   ]
  },
  {
   "cell_type": "code",
   "execution_count": 15,
   "id": "6bf62a04-6ba0-4fb8-ba2b-65aaaf168c1a",
   "metadata": {},
   "outputs": [
    {
     "name": "stdout",
     "output_type": "stream",
     "text": [
      "6600\n"
     ]
    }
   ],
   "source": [
    "# use ceil instead of round(x, -2)\n",
    "\n",
    "import math\n",
    "x = 6543.5432\n",
    "y = x / 100\n",
    "z = math.ceil(y) \n",
    "print(z * 100)\n"
   ]
  },
  {
   "cell_type": "markdown",
   "id": "80f4500f-399e-41fe-a9d7-1cd9669bc475",
   "metadata": {},
   "source": [
    "# List and Dict"
   ]
  },
  {
   "cell_type": "code",
   "execution_count": 24,
   "id": "66b6ef2c-0d27-44fb-9bf0-768508acaeac",
   "metadata": {},
   "outputs": [],
   "source": [
    "b = [['apple', 'orange', 'banana'], ['Japan', 'Califoria','Philipine'], [40, 25, 10]]"
   ]
  },
  {
   "cell_type": "code",
   "execution_count": 25,
   "id": "8e77dd50-7813-46d2-b17f-11613ed5b6c6",
   "metadata": {},
   "outputs": [
    {
     "name": "stdout",
     "output_type": "stream",
     "text": [
      "orange\n"
     ]
    }
   ],
   "source": [
    "print(b[0][1])"
   ]
  },
  {
   "cell_type": "code",
   "execution_count": 29,
   "id": "6e9fc406-ae29-4f27-bbd3-e62b25212961",
   "metadata": {
    "jupyter": {
     "source_hidden": true
    }
   },
   "outputs": [],
   "source": [
    "c1 = {'name':'apple', 'country': 'Japan', 'price': 40}\n",
    "c2 = {'name':'orange', 'country': 'Califoria', 'price': 25}\n",
    "c3 = {'name':'banana', 'country': 'Philipine', 'price': 10}\n",
    "c = [c1, c2, c3]"
   ]
  },
  {
   "cell_type": "code",
   "execution_count": 30,
   "id": "4e21544c-126a-4290-93f1-630a9a312cfb",
   "metadata": {},
   "outputs": [
    {
     "name": "stdout",
     "output_type": "stream",
     "text": [
      "apple\n"
     ]
    }
   ],
   "source": [
    "print(c[0]['name'])"
   ]
  },
  {
   "cell_type": "code",
   "execution_count": 31,
   "id": "fb1e4635-ad20-4aa6-a639-9cd9bb6f2bf8",
   "metadata": {},
   "outputs": [
    {
     "name": "stdout",
     "output_type": "stream",
     "text": [
      "300\n"
     ]
    }
   ],
   "source": [
    "import numpy as np\n",
    "a = np.array([100,200,300,400,500])\n",
    "print(a[2])"
   ]
  },
  {
   "cell_type": "code",
   "execution_count": 32,
   "id": "5738732d-8851-4f4a-b2fc-c2c843c3ee46",
   "metadata": {},
   "outputs": [
    {
     "name": "stdout",
     "output_type": "stream",
     "text": [
      "5\n"
     ]
    }
   ],
   "source": [
    "print(a.size)"
   ]
  },
  {
   "cell_type": "code",
   "execution_count": 35,
   "id": "516862e5-961e-4bce-bc1f-a4a75ba1bddf",
   "metadata": {},
   "outputs": [
    {
     "name": "stdout",
     "output_type": "stream",
     "text": [
      "[ 10.   32.5  55.   77.5 100. ]\n"
     ]
    }
   ],
   "source": [
    "# 由 10 至 100，平分 5 件\n",
    "import numpy as np\n",
    "b = np.linspace(10, 100, num=5)\n",
    "print(b)"
   ]
  },
  {
   "cell_type": "code",
   "execution_count": 39,
   "id": "96f1cfbb-86bb-4f9d-86fb-ed8724940458",
   "metadata": {},
   "outputs": [
    {
     "data": {
      "text/html": [
       "<div>\n",
       "<style scoped>\n",
       "    .dataframe tbody tr th:only-of-type {\n",
       "        vertical-align: middle;\n",
       "    }\n",
       "\n",
       "    .dataframe tbody tr th {\n",
       "        vertical-align: top;\n",
       "    }\n",
       "\n",
       "    .dataframe thead th {\n",
       "        text-align: right;\n",
       "    }\n",
       "</style>\n",
       "<table border=\"1\" class=\"dataframe\">\n",
       "  <thead>\n",
       "    <tr style=\"text-align: right;\">\n",
       "      <th></th>\n",
       "      <th>用戶號碼：12345678</th>\n",
       "      <th>票據序列：12-34-5678</th>\n",
       "      <th>電話: 1234 5678</th>\n",
       "      <th>社區碼：8765-4321</th>\n",
       "      <th>編號：2143-6587</th>\n",
       "    </tr>\n",
       "  </thead>\n",
       "  <tbody>\n",
       "    <tr>\n",
       "      <th>0</th>\n",
       "      <td>識別碼: 87654321</td>\n",
       "      <td>訂單號：87-65-4321</td>\n",
       "      <td>銀行帳號：8765 4321</td>\n",
       "      <td>註冊ID：2143 6587</td>\n",
       "      <td>卡號：5678-1234</td>\n",
       "    </tr>\n",
       "    <tr>\n",
       "      <th>1</th>\n",
       "      <td>跟蹤碼：34567812</td>\n",
       "      <td>註冊號碼：34-56-7812</td>\n",
       "      <td>會員ID：3456 7812</td>\n",
       "      <td>流水號：8765-4321</td>\n",
       "      <td>文檔號：2143-6587</td>\n",
       "    </tr>\n",
       "    <tr>\n",
       "      <th>2</th>\n",
       "      <td>配件編號：21436587</td>\n",
       "      <td>發票號：21-43-6587</td>\n",
       "      <td>參考值：2143 6587</td>\n",
       "      <td>獎券號：5678-1234</td>\n",
       "      <td>項目號：8765-4321</td>\n",
       "    </tr>\n",
       "    <tr>\n",
       "      <th>3</th>\n",
       "      <td>帳戶碼：12345678</td>\n",
       "      <td>分機號：12-34-5678</td>\n",
       "      <td>核驗碼：1234 5678</td>\n",
       "      <td>案件號：8765-4321</td>\n",
       "      <td>批次號：2143-6587</td>\n",
       "    </tr>\n",
       "    <tr>\n",
       "      <th>4</th>\n",
       "      <td>交易碼：87654321</td>\n",
       "      <td>序號：87-65-4321</td>\n",
       "      <td>入場券：8765 4321</td>\n",
       "      <td>保安碼：2143 6587</td>\n",
       "      <td>許可權碼：5678-1234</td>\n",
       "    </tr>\n",
       "    <tr>\n",
       "      <th>5</th>\n",
       "      <td>售出碼：34567812</td>\n",
       "      <td>客戶號：34-56-7812</td>\n",
       "      <td>權杖號：3456 7812</td>\n",
       "      <td>測試號：8765-4321</td>\n",
       "      <td>編碼：2143-6587</td>\n",
       "    </tr>\n",
       "    <tr>\n",
       "      <th>6</th>\n",
       "      <td>確認號：21436587</td>\n",
       "      <td>配送號：21-43-6587</td>\n",
       "      <td>校驗號：2143 6587</td>\n",
       "      <td>服務號：5678-1234</td>\n",
       "      <td>設備號：8765-4321</td>\n",
       "    </tr>\n",
       "    <tr>\n",
       "      <th>7</th>\n",
       "      <td>序號：12345678</td>\n",
       "      <td>製作號：12-34-5678</td>\n",
       "      <td>優惠券：1234 5678</td>\n",
       "      <td>許可證：8765-4321</td>\n",
       "      <td>金鑰號：2143-6587</td>\n",
       "    </tr>\n",
       "    <tr>\n",
       "      <th>8</th>\n",
       "      <td>操作碼：87654321</td>\n",
       "      <td>追蹤號：87-65-4321</td>\n",
       "      <td>車牌號：8765 4321</td>\n",
       "      <td>票據：2143 6587</td>\n",
       "      <td>發行號：5678-1234</td>\n",
       "    </tr>\n",
       "  </tbody>\n",
       "</table>\n",
       "</div>"
      ],
      "text/plain": [
       "    用戶號碼：12345678    票據序列：12-34-5678     電話: 1234 5678     社區碼：8765-4321   \\\n",
       "0   識別碼: 87654321     訂單號：87-65-4321    銀行帳號：8765 4321    註冊ID：2143 6587    \n",
       "1    跟蹤碼：34567812    註冊號碼：34-56-7812    會員ID：3456 7812     流水號：8765-4321    \n",
       "2   配件編號：21436587     發票號：21-43-6587     參考值：2143 6587     獎券號：5678-1234    \n",
       "3    帳戶碼：12345678     分機號：12-34-5678     核驗碼：1234 5678     案件號：8765-4321    \n",
       "4    交易碼：87654321      序號：87-65-4321     入場券：8765 4321     保安碼：2143 6587    \n",
       "5    售出碼：34567812     客戶號：34-56-7812     權杖號：3456 7812     測試號：8765-4321    \n",
       "6    確認號：21436587     配送號：21-43-6587     校驗號：2143 6587     服務號：5678-1234    \n",
       "7   序號：12345678       製作號：12-34-5678     優惠券：1234 5678     許可證：8765-4321    \n",
       "8    操作碼：87654321     追蹤號：87-65-4321     車牌號：8765 4321    票據：2143 6587      \n",
       "\n",
       "      編號：2143-6587   \n",
       "0     卡號：5678-1234   \n",
       "1    文檔號：2143-6587   \n",
       "2    項目號：8765-4321   \n",
       "3    批次號：2143-6587   \n",
       "4   許可權碼：5678-1234   \n",
       "5     編碼：2143-6587   \n",
       "6    設備號：8765-4321   \n",
       "7    金鑰號：2143-6587   \n",
       "8    發行號：5678-1234   "
      ]
     },
     "execution_count": 39,
     "metadata": {},
     "output_type": "execute_result"
    }
   ],
   "source": [
    "import pandas as pd\n",
    "pd.read_csv('findall_s1.csv', encoding='Big5')"
   ]
  },
  {
   "cell_type": "code",
   "execution_count": null,
   "id": "6f3875af-09f3-4387-bf0c-70b63a0df19a",
   "metadata": {},
   "outputs": [],
   "source": []
  }
 ],
 "metadata": {
  "kernelspec": {
   "display_name": "Python 3 (ipykernel)",
   "language": "python",
   "name": "python3"
  },
  "language_info": {
   "codemirror_mode": {
    "name": "ipython",
    "version": 3
   },
   "file_extension": ".py",
   "mimetype": "text/x-python",
   "name": "python",
   "nbconvert_exporter": "python",
   "pygments_lexer": "ipython3",
   "version": "3.12.4"
  }
 },
 "nbformat": 4,
 "nbformat_minor": 5
}

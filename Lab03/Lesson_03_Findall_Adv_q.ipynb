{
 "cells": [
  {
   "cell_type": "markdown",
   "id": "cacf3670-a087-4de6-b454-c7638c350fcc",
   "metadata": {},
   "source": [
    "<h3>Extract dates from text string</h3>"
   ]
  },
  {
   "cell_type": "code",
   "execution_count": 3,
   "id": "b7ae0945-7b43-4efc-95f9-c1726582cb7f",
   "metadata": {},
   "outputs": [
    {
     "name": "stdout",
     "output_type": "stream",
     "text": [
      "Result ['2024/12/25', '25/12/2024', '2024-10-16', '16.10.2024', '2024.10.13']\n"
     ]
    }
   ],
   "source": [
    "# r'\\b(?:\\d{1,2}[/.-]\\d{1,2}[/.-]\\d{4}|\\d{4}[/.-]\\d{1,2}[/.-]\\d{1,2})\\b'\n",
    "\n",
    "import re\n",
    "\n",
    "def extract_dates_from_text(inputText):\n",
    "    # 10/10/2000\n",
    "    subpatt1 = r'\\d{1,2}[/.-]\\d{1,2}[/.-]\\d{4}'\n",
    "    # 2000/10/10\n",
    "    subpatt2 = r'\\d{4}[/.-]\\d{1,2}[/.-]\\d{1,2}'\n",
    "    totalpatt = r'\\b(?:' + subpatt1 + '|' + subpatt2 + r')\\b'\n",
    "    pattern = r'\\b(?:\\d{1,2}[/.-]\\d{1,2}[/.-]\\d{4}|\\d{4}[/.-]\\d{1,2}[/.-]\\d{1,2})\\b'\n",
    "    results = re.findall(totalpatt, inputText)\n",
    "    return results\n",
    "\n",
    "sample_text = \"\"\"\n",
    "2024/12/25 5-8\n",
    "25/12/2024 3-9\n",
    "2-7 2024-10-16\n",
    "4-3 16.10.2024\n",
    "6.9 2024.10.13\n",
    "\"\"\"\n",
    "\n",
    "myResults = extract_dates_from_text(sample_text)\n",
    "print(\"Result\", myResults)\n"
   ]
  },
  {
   "cell_type": "markdown",
   "id": "90d076e5-4a01-4d95-9b3c-9b97b9948a00",
   "metadata": {},
   "source": [
    "<h2>Get parent directory</h2>"
   ]
  },
  {
   "cell_type": "code",
   "execution_count": 9,
   "id": "16c04e29-badb-4f39-8eb9-f8ce354dbdb0",
   "metadata": {},
   "outputs": [
    {
     "name": "stdout",
     "output_type": "stream",
     "text": [
      "C:\\Users\\user\\JupyterNotebookProjects\\JupyterForBigDataFundamental2024\n"
     ]
    }
   ],
   "source": [
    "import os\n",
    "myParent = os.path.split(os.path.abspath('.'))[0]\n",
    "print(myParent)"
   ]
  },
  {
   "cell_type": "markdown",
   "id": "333af682-cd19-4cdc-a457-7b3287129da4",
   "metadata": {},
   "source": [
    "<h2>Get data from csv file and extract the dates</h2>"
   ]
  },
  {
   "cell_type": "code",
   "execution_count": 21,
   "id": "0654de19-bcf9-4792-8f59-d5d2c9bec592",
   "metadata": {},
   "outputs": [
    {
     "name": "stdout",
     "output_type": "stream",
     "text": [
      "['12345678', '87654321', '34567812', '21436587', '12345678', '87654321', '34567812', '21436587', '12345678', '87654321', '12-34-5678', '12-34-5678', '87-65-4321', '87-65-4321', '34-56-7812', '34-56-7812', '21-43-6587', '21-43-6587', '12-34-5678', '12-34-5678', '87-65-4321', '87-65-4321', '34-56-7812', '34-56-7812', '21-43-6587', '21-43-6587', '12-34-5678', '12-34-5678', '87-65-4321', '87-65-4321', '1234 5678', '8765 4321', '3456 7812', '2143 6587', '1234 5678', '8765 4321', '3456 7812', '2143 6587', '1234 5678', '8765 4321', '8765-4321', '2143 6587', '8765-4321', '5678-1234', '8765-4321', '2143 6587', '8765-4321', '5678-1234', '8765-4321', '2143 6587', '2143-6587', '5678-1234', '2143-6587', '8765-4321', '2143-6587', '5678-1234', '2143-6587', '8765-4321', '2143-6587', '5678-1234']\n"
     ]
    }
   ],
   "source": [
    "import re, os\n",
    "import pandas as pd\n",
    "\n",
    "def getDataFilePath(inputfile):\n",
    "    parentdir = os.path.split(os.path.abspath('.'))[0]\n",
    "    return parentdir + '\\\\' + inputfile\n",
    "\n",
    "def myEncoding(inputfilepath):\n",
    "    encodings = ['utf-8', 'gbk', 'big5']\n",
    "    for encoding in encodings:\n",
    "        try:\n",
    "            data = pd.read_csv(inputfilepath, encoding=encoding, header=None)\n",
    "            return data\n",
    "        except UnicodeDecodeError:\n",
    "            continue\n",
    "    raise ValueError('無法讀取文件, 可能編碼不正確')\n",
    "\n",
    "def extract_dates_from_csv(inputfile):\n",
    "\n",
    "    file_path = getDataFilePath(inputfile)\n",
    "    # data = pd.read_csv(file_path, encoding='unicode_escape')    \n",
    "    data = myEncoding(file_path)\n",
    "    extracted_dates = []\n",
    "   \n",
    "    date_patterns = [\n",
    "        r'\\b\\d{4}-\\d{1,2}-\\d{1,2}\\b',  # YYYY-MM-DD\n",
    "        r'\\b\\d{1,2}/\\d{1,2}/\\d{4}\\b',  # DD/MM/YYYY\n",
    "        r'\\b\\d{1,2}-\\d{1,2}-\\d{4}\\b',  # DD-MM-YYYY\n",
    "        r'\\b\\d{1,2}.\\d{1,2}.\\d{4}\\b'   # DD.MM.YYYY        \n",
    "    ]\n",
    "        \n",
    "    for column in data.columns:\n",
    "        for item in data[column]:\n",
    "            if pd.notna(item):\n",
    "                for pattern in date_patterns:\n",
    "                    if re.search(pattern, str(item)):\n",
    "                        extracted_dates.append(re.search(pattern, str(item)).group())\n",
    "    \n",
    "    return extracted_dates\n",
    "\n",
    "dates = extract_dates_from_csv(\"findall_s1.csv\")\n",
    "print(dates)"
   ]
  },
  {
   "cell_type": "markdown",
   "id": "d6aa1954-0340-41d7-b287-7d6c3d8c17b7",
   "metadata": {},
   "source": [
    "<h2>Get data from excel file and extract the date</h2>"
   ]
  },
  {
   "cell_type": "code",
   "execution_count": 24,
   "id": "b8d6172e-1fe5-4072-b146-643927f1886d",
   "metadata": {},
   "outputs": [],
   "source": [
    "def extract_dates_from_excel(file_path):\n",
    "    \n",
    "    data = pd.read_excel(file_path)    \n",
    "    \n",
    "    extracted_dates = []\n",
    "   \n",
    "    date_patterns = [\n",
    "        r'\\b\\d{4}-\\d{1,2}-\\d{1,2}\\b',  # YYYY-MM-DD\n",
    "        r'\\b\\d{1,2}/\\d{1,2}/\\d{4}\\b',  # DD/MM/YYYY\n",
    "        r'\\b\\d{1,2}-\\d{1,2}-\\d{4}\\b',  # DD-MM-YYYY\n",
    "        r'\\b\\d{1,2}.\\d{1,2}.\\d{4}\\b'   # DD.MM.YYYY        \n",
    "    ]    \n",
    "    \n",
    "    for column in data.columns:\n",
    "        for item in data[column]:\n",
    "            if pd.notna(item):\n",
    "                for pattern in date_patterns:\n",
    "                    if re.search(pattern, str(item)):\n",
    "                        extracted_dates.append(re.search(pattern, str(item)).group())\n",
    "    \n",
    "    return extracted_dates"
   ]
  },
  {
   "cell_type": "code",
   "execution_count": 27,
   "id": "854d6d78-11ed-48fe-b631-b4eaeff5036f",
   "metadata": {},
   "outputs": [
    {
     "name": "stdout",
     "output_type": "stream",
     "text": [
      "['87654321', '34567812', '21436587', '12345678', '87654321', '34567812', '21436587', '12345678', '87654321', '87-65-4321', '87-65-4321', '34-56-7812', '34-56-7812', '21-43-6587', '21-43-6587', '12-34-5678', '12-34-5678', '87-65-4321', '87-65-4321', '34-56-7812', '34-56-7812', '21-43-6587', '21-43-6587', '12-34-5678', '12-34-5678', '87-65-4321', '87-65-4321', '8765 4321', '3456 7812', '2143 6587', '1234 5678', '8765 4321', '3456 7812', '2143 6587', '1234 5678', '8765 4321', '2143 6587', '8765-4321', '5678-1234', '8765-4321', '2143 6587', '8765-4321', '5678-1234', '8765-4321', '2143 6587', '5678-1234', '2143-6587', '8765-4321', '2143-6587', '5678-1234', '2143-6587', '8765-4321', '2143-6587', '5678-1234']\n"
     ]
    }
   ],
   "source": [
    "myfilepath = getDataFilePath(\"findall_s2.xlsx\")\n",
    "lstOfDate = extract_dates_from_excel(myfilepath)\n",
    "print(lstOfDate)"
   ]
  },
  {
   "cell_type": "code",
   "execution_count": null,
   "id": "0718d410-a890-4184-b007-6810ecc54625",
   "metadata": {},
   "outputs": [],
   "source": []
  }
 ],
 "metadata": {
  "kernelspec": {
   "display_name": "Python 3 (ipykernel)",
   "language": "python",
   "name": "python3"
  },
  "language_info": {
   "codemirror_mode": {
    "name": "ipython",
    "version": 3
   },
   "file_extension": ".py",
   "mimetype": "text/x-python",
   "name": "python",
   "nbconvert_exporter": "python",
   "pygments_lexer": "ipython3",
   "version": "3.12.3"
  }
 },
 "nbformat": 4,
 "nbformat_minor": 5
}
